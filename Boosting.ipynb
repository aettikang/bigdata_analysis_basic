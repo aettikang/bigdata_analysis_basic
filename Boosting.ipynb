{
  "nbformat": 4,
  "nbformat_minor": 0,
  "metadata": {
    "colab": {
      "name": "Boosting.ipynb",
      "provenance": [],
      "collapsed_sections": [],
      "include_colab_link": true
    },
    "kernelspec": {
      "name": "python3",
      "display_name": "Python 3"
    },
    "language_info": {
      "name": "python"
    }
  },
  "cells": [
    {
      "cell_type": "markdown",
      "metadata": {
        "id": "view-in-github",
        "colab_type": "text"
      },
      "source": [
        "<a href=\"https://colab.research.google.com/github/aettikang/bigdata_analysis_basic/blob/main/Boosting.ipynb\" target=\"_parent\"><img src=\"https://colab.research.google.com/assets/colab-badge.svg\" alt=\"Open In Colab\"/></a>"
      ]
    },
    {
      "cell_type": "code",
      "metadata": {
        "id": "AI88ALOa30BV"
      },
      "source": [
        "# 필요한 파이썬 라이브러리 불러오기\n",
        "import numpy as np\n",
        "import pandas as pd\n",
        "\n",
        "from sklearn.ensemble import GradientBoostingClassifier\n",
        "from sklearn.metrics import (accuracy_score, log_loss, classification_report)\n",
        "import xgboost"
      ],
      "execution_count": 1,
      "outputs": []
    },
    {
      "cell_type": "code",
      "metadata": {
        "id": "VR0pMknl3-md"
      },
      "source": [
        "attrition = pd.read_csv('https://raw.githubusercontent.com/aettikang/bigdata_analysis_basic/main/HR-Employee-Attrition.csv')\n",
        "attrition.head()"
      ],
      "execution_count": null,
      "outputs": []
    },
    {
      "cell_type": "code",
      "source": [
        "attrition.info()"
      ],
      "metadata": {
        "id": "ZpI27gLVCoJG"
      },
      "execution_count": null,
      "outputs": []
    },
    {
      "cell_type": "code",
      "metadata": {
        "id": "7Lf8iNfm7fhK"
      },
      "source": [
        "attrition_cat_dummies = pd.get_dummies(attrition) #가급적 get_dummies쓸것\n",
        "attrition_cat_dummies.head(3)"
      ],
      "execution_count": null,
      "outputs": []
    },
    {
      "cell_type": "code",
      "source": [
        "feature_columns = list(attrition_cat_dummies.columns.difference([\"Attrition\"]))\n",
        "\n",
        "X = attrition_cat_dummies[feature_columns]\n",
        "y = attrition_cat_dummies['Attrition'].astype('category') "
      ],
      "metadata": {
        "id": "tqWW9XmlDPBA"
      },
      "execution_count": 5,
      "outputs": []
    },
    {
      "cell_type": "code",
      "metadata": {
        "id": "4STz2Aik74CO"
      },
      "source": [
        "# Import the train_test_split method\n",
        "from sklearn.model_selection import train_test_split\n",
        "\n",
        "# Split data into train and test sets as well as for validation and testing\n",
        "train_X, test_X, train_y, test_y = train_test_split(X,y, \n",
        "                                              train_size= 0.80,\n",
        "                                              random_state=0);"
      ],
      "execution_count": 7,
      "outputs": []
    },
    {
      "cell_type": "code",
      "metadata": {
        "id": "dERIRtHQeArA"
      },
      "source": [
        "from sklearn.model_selection import GridSearchCV\n",
        "\n",
        "gb_params = {'n_estimators' : [1000, 1500],\n",
        "           'max_depth' : [4, 6],\n",
        "           'min_samples_leaf' : [2, 4],\n",
        "           'max_features' : [0.7, 0.9],\n",
        "           'learning_rate' : [0.25,0.3]\n",
        "            }\n",
        "\n",
        "# RandomForest Classifier 객체 생성 후 GridSearchCV 수행\n",
        "gb_clf = GradientBoostingClassifier(random_state = 0)\n",
        "grid_cv = GridSearchCV(gb_clf, param_grid = gb_params, cv = 3, n_jobs = -1)\n",
        "grid_cv.fit(train_X, train_y)\n",
        "\n",
        "print('최적 하이퍼 파라미터: ', grid_cv.best_params_)\n",
        "print('최고 예측 정확도: {:.4f}'.format(grid_cv.best_score_))"
      ],
      "execution_count": null,
      "outputs": []
    },
    {
      "cell_type": "code",
      "metadata": {
        "id": "TB9vO6Nv9mas"
      },
      "source": [
        "# Gradient Boosting Parameters\n",
        "seed = 0\n",
        "gb_params ={\n",
        "    'n_estimators': 1000,\n",
        "    'max_features': 0.9,\n",
        "    'learning_rate' : 0.3,\n",
        "    'max_depth': 6,\n",
        "    'min_samples_leaf': 4,\n",
        "    'random_state' : seed,\n",
        "    'verbose': 0\n",
        "}"
      ],
      "execution_count": 9,
      "outputs": []
    },
    {
      "cell_type": "code",
      "metadata": {
        "id": "BlfH9xYI-JuZ"
      },
      "source": [
        "gb = GradientBoostingClassifier(**gb_params)\n",
        "gb.fit(train_X, train_y)\n",
        "gb_predictions = gb.predict(test_X)"
      ],
      "execution_count": 10,
      "outputs": []
    },
    {
      "cell_type": "code",
      "metadata": {
        "id": "lObwEkyO-OUR"
      },
      "source": [
        "print(\"Accuracy score: {}\".format(accuracy_score(test_y, gb_predictions)))\n",
        "print(classification_report(test_y, gb_predictions))"
      ],
      "execution_count": null,
      "outputs": []
    },
    {
      "cell_type": "code",
      "metadata": {
        "id": "m90Bqycph_sB"
      },
      "source": [
        "#feat = feature_columns\n",
        "imp = gb.feature_importances_\n",
        "df = pd.DataFrame({'Feature': feature_columns, 'Importance': imp})\n",
        "df = df.sort_values('Importance', ascending=False)[:5]\n",
        "df"
      ],
      "execution_count": null,
      "outputs": []
    },
    {
      "cell_type": "code",
      "source": [
        "import seaborn as sns\n",
        "import matplotlib.pyplot as plt\n",
        "%matplotlib inline\n",
        "\n",
        "sns.barplot(x='Importance', y='Feature', data=df);"
      ],
      "metadata": {
        "id": "15Ds9TxLt41F"
      },
      "execution_count": null,
      "outputs": []
    }
  ]
}