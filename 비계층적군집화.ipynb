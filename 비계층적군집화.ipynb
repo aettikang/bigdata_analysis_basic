{
  "nbformat": 4,
  "nbformat_minor": 5,
  "metadata": {
    "kernelspec": {
      "display_name": "Python 3 (ipykernel)",
      "language": "python",
      "name": "python3"
    },
    "language_info": {
      "codemirror_mode": {
        "name": "ipython",
        "version": 3
      },
      "file_extension": ".py",
      "mimetype": "text/x-python",
      "name": "python",
      "nbconvert_exporter": "python",
      "pygments_lexer": "ipython3",
      "version": "3.8.10"
    },
    "colab": {
      "name": "비계층적군집화.ipynb",
      "provenance": [],
      "collapsed_sections": [],
      "include_colab_link": true
    }
  },
  "cells": [
    {
      "cell_type": "markdown",
      "metadata": {
        "id": "view-in-github",
        "colab_type": "text"
      },
      "source": [
        "<a href=\"https://colab.research.google.com/github/aettikang/bigdata_analysis_basic/blob/main/%EB%B9%84%EA%B3%84%EC%B8%B5%EC%A0%81%EA%B5%B0%EC%A7%91%ED%99%94.ipynb\" target=\"_parent\"><img src=\"https://colab.research.google.com/assets/colab-badge.svg\" alt=\"Open In Colab\"/></a>"
      ]
    },
    {
      "cell_type": "markdown",
      "metadata": {
        "id": "cf2454fd-6f1f-4569-88b6-a7135d7a52f3"
      },
      "source": [
        "# 샘플 데이터와 Non-Hierarchical Clustering "
      ],
      "id": "cf2454fd-6f1f-4569-88b6-a7135d7a52f3"
    },
    {
      "cell_type": "code",
      "metadata": {
        "id": "22b7d654-5d91-44f4-a6ee-0589b3223ab7"
      },
      "source": [
        "import pandas as pd\n",
        "import numpy as np\n",
        "import matplotlib.pyplot as plt\n",
        "\n",
        "\n",
        "np.random.seed(2021)"
      ],
      "id": "22b7d654-5d91-44f4-a6ee-0589b3223ab7",
      "execution_count": null,
      "outputs": []
    },
    {
      "cell_type": "markdown",
      "metadata": {
        "id": "0e3e6d30-dc5a-4e67-b539-a4c1163e08a4"
      },
      "source": [
        "## 1. Data"
      ],
      "id": "0e3e6d30-dc5a-4e67-b539-a4c1163e08a4"
    },
    {
      "cell_type": "markdown",
      "metadata": {
        "id": "f316e286-b9c3-4727-9393-3974b2c682b1"
      },
      "source": [
        "### 1.1 Sample Data"
      ],
      "id": "f316e286-b9c3-4727-9393-3974b2c682b1"
    },
    {
      "cell_type": "code",
      "metadata": {
        "id": "620b7b76-2714-4614-aa94-783ce382d835"
      },
      "source": [
        "from sklearn.datasets import make_blobs\n",
        "\n",
        "\n",
        "data, label = make_blobs(n_samples=1500, random_state=170)"
      ],
      "id": "620b7b76-2714-4614-aa94-783ce382d835",
      "execution_count": null,
      "outputs": []
    },
    {
      "cell_type": "code",
      "source": [
        "data"
      ],
      "metadata": {
        "id": "hzEgrLaWwSpl"
      },
      "id": "hzEgrLaWwSpl",
      "execution_count": null,
      "outputs": []
    },
    {
      "cell_type": "code",
      "source": [
        "label"
      ],
      "metadata": {
        "id": "Aw9m_z0jtXlO"
      },
      "id": "Aw9m_z0jtXlO",
      "execution_count": null,
      "outputs": []
    },
    {
      "cell_type": "code",
      "metadata": {
        "id": "24924c88-6757-4f02-aced-8e954a0706f0"
      },
      "source": [
        "plt.scatter(data[:, 0], data[:, 1], c=label)"
      ],
      "id": "24924c88-6757-4f02-aced-8e954a0706f0",
      "execution_count": null,
      "outputs": []
    },
    {
      "cell_type": "markdown",
      "metadata": {
        "id": "ede5dbef-5807-4422-88dc-84da28352bd1"
      },
      "source": [
        "## 2. K Means"
      ],
      "id": "ede5dbef-5807-4422-88dc-84da28352bd1"
    },
    {
      "cell_type": "markdown",
      "metadata": {
        "id": "046e574b-730a-4a7d-bffe-9f6a352746b9"
      },
      "source": [
        "### 2.1 정확한 군집의 갯수를 맞춘 경우"
      ],
      "id": "046e574b-730a-4a7d-bffe-9f6a352746b9"
    },
    {
      "cell_type": "code",
      "metadata": {
        "id": "147f49f4-3f85-491a-a5f0-d9f8874a3e3b"
      },
      "source": [
        "from sklearn.cluster import KMeans\n",
        "\n",
        "correct_kmeans = KMeans(n_clusters=3)"
      ],
      "id": "147f49f4-3f85-491a-a5f0-d9f8874a3e3b",
      "execution_count": null,
      "outputs": []
    },
    {
      "cell_type": "code",
      "metadata": {
        "id": "30dfa61e-3219-4037-9f43-583d7de4cfdf"
      },
      "source": [
        "correct_kmeans.fit(data)"
      ],
      "id": "30dfa61e-3219-4037-9f43-583d7de4cfdf",
      "execution_count": null,
      "outputs": []
    },
    {
      "cell_type": "code",
      "metadata": {
        "id": "23a065e8-1a5a-41e1-8cbc-0890608a0641"
      },
      "source": [
        "correct_pred = correct_kmeans.predict(data)"
      ],
      "id": "23a065e8-1a5a-41e1-8cbc-0890608a0641",
      "execution_count": null,
      "outputs": []
    },
    {
      "cell_type": "code",
      "source": [
        "data.shape"
      ],
      "metadata": {
        "id": "DUdC_WAGE_dX"
      },
      "id": "DUdC_WAGE_dX",
      "execution_count": null,
      "outputs": []
    },
    {
      "cell_type": "code",
      "source": [
        "correct_pred"
      ],
      "metadata": {
        "id": "DrB8cjvE__-2"
      },
      "id": "DrB8cjvE__-2",
      "execution_count": null,
      "outputs": []
    },
    {
      "cell_type": "code",
      "metadata": {
        "id": "R3SR5THBR27Y"
      },
      "source": [
        "correct_kmeans.cluster_centers_"
      ],
      "id": "R3SR5THBR27Y",
      "execution_count": null,
      "outputs": []
    },
    {
      "cell_type": "code",
      "metadata": {
        "id": "97e45a6f-cde8-4484-941f-f86d2f4354c7"
      },
      "source": [
        "correct_center = correct_kmeans.cluster_centers_"
      ],
      "id": "97e45a6f-cde8-4484-941f-f86d2f4354c7",
      "execution_count": null,
      "outputs": []
    },
    {
      "cell_type": "code",
      "metadata": {
        "id": "4d8b9b4d-1773-45b0-a618-965433b14ad4"
      },
      "source": [
        "plt.scatter(data[:, 0], data[:, 1], c=correct_pred)\n",
        "plt.scatter(correct_center[:, 0], correct_center[:, 1], marker=\"*\", s=100, color=\"red\")"
      ],
      "id": "4d8b9b4d-1773-45b0-a618-965433b14ad4",
      "execution_count": null,
      "outputs": []
    },
    {
      "cell_type": "markdown",
      "metadata": {
        "id": "1b6908b0-0ad8-4def-b99e-474d932d64c6"
      },
      "source": [
        "### 2.2 군집의 갯수를 틀린 경우"
      ],
      "id": "1b6908b0-0ad8-4def-b99e-474d932d64c6"
    },
    {
      "cell_type": "markdown",
      "metadata": {
        "id": "ee711d14-4168-4a6b-be43-fe74730441a7"
      },
      "source": [
        "#### 2.2.1 적은 경우"
      ],
      "id": "ee711d14-4168-4a6b-be43-fe74730441a7"
    },
    {
      "cell_type": "code",
      "metadata": {
        "id": "98d09cc0-a899-45be-a848-4a30f7ee7607"
      },
      "source": [
        "small_kmeans = KMeans(n_clusters=2)"
      ],
      "id": "98d09cc0-a899-45be-a848-4a30f7ee7607",
      "execution_count": null,
      "outputs": []
    },
    {
      "cell_type": "code",
      "metadata": {
        "id": "d6fbfe17-8b04-4603-8f15-6e72fba5cf15"
      },
      "source": [
        "small_kmeans.fit(data)"
      ],
      "id": "d6fbfe17-8b04-4603-8f15-6e72fba5cf15",
      "execution_count": null,
      "outputs": []
    },
    {
      "cell_type": "code",
      "metadata": {
        "id": "b6b96a8c-0b23-4c76-8104-410e7f141ec9"
      },
      "source": [
        "small_pred = small_kmeans.predict(data)"
      ],
      "id": "b6b96a8c-0b23-4c76-8104-410e7f141ec9",
      "execution_count": null,
      "outputs": []
    },
    {
      "cell_type": "code",
      "metadata": {
        "id": "529a2dd2-796a-42db-b516-01ba13ccf44b"
      },
      "source": [
        "small_center = small_kmeans.cluster_centers_"
      ],
      "id": "529a2dd2-796a-42db-b516-01ba13ccf44b",
      "execution_count": null,
      "outputs": []
    },
    {
      "cell_type": "code",
      "metadata": {
        "id": "2a0ddade-49b0-4f16-8c95-d987c35a40c9"
      },
      "source": [
        "plt.scatter(data[:, 0], data[:, 1], c=small_pred)\n",
        "plt.scatter(small_center[:, 0], small_center[:, 1], marker=\"*\", s=100, color=\"red\")"
      ],
      "id": "2a0ddade-49b0-4f16-8c95-d987c35a40c9",
      "execution_count": null,
      "outputs": []
    },
    {
      "cell_type": "markdown",
      "metadata": {
        "id": "b7ff2963-4238-4cbb-b668-f01f02ca805e"
      },
      "source": [
        "#### 2.2.1 큰 경우"
      ],
      "id": "b7ff2963-4238-4cbb-b668-f01f02ca805e"
    },
    {
      "cell_type": "code",
      "metadata": {
        "id": "42a2730b-3ecc-4e62-8a8c-6a7e0266193f"
      },
      "source": [
        "large_kmeans = KMeans(n_clusters=4)"
      ],
      "id": "42a2730b-3ecc-4e62-8a8c-6a7e0266193f",
      "execution_count": null,
      "outputs": []
    },
    {
      "cell_type": "code",
      "metadata": {
        "id": "d379041b-12ae-4df5-ba4d-7b649f74a23a"
      },
      "source": [
        "large_kmeans.fit(data)"
      ],
      "id": "d379041b-12ae-4df5-ba4d-7b649f74a23a",
      "execution_count": null,
      "outputs": []
    },
    {
      "cell_type": "code",
      "metadata": {
        "id": "4d66d802-07ba-487a-8e7c-d00ccbfee429"
      },
      "source": [
        "large_pred = large_kmeans.predict(data)"
      ],
      "id": "4d66d802-07ba-487a-8e7c-d00ccbfee429",
      "execution_count": null,
      "outputs": []
    },
    {
      "cell_type": "code",
      "source": [
        "large_pred"
      ],
      "metadata": {
        "id": "WbuhjZnLx5fm"
      },
      "id": "WbuhjZnLx5fm",
      "execution_count": null,
      "outputs": []
    },
    {
      "cell_type": "code",
      "metadata": {
        "id": "908911f2-a35f-4fc8-8bc0-9979fc70fa44"
      },
      "source": [
        "large_center = large_kmeans.cluster_centers_"
      ],
      "id": "908911f2-a35f-4fc8-8bc0-9979fc70fa44",
      "execution_count": null,
      "outputs": []
    },
    {
      "cell_type": "code",
      "metadata": {
        "id": "f2413670-e3bd-4f28-9d65-22c7394ba235"
      },
      "source": [
        "plt.scatter(data[:, 0], data[:, 1], c=large_pred)\n",
        "plt.scatter(large_center[:, 0], large_center[:, 1], marker=\"*\", s=100, color=\"red\")"
      ],
      "id": "f2413670-e3bd-4f28-9d65-22c7394ba235",
      "execution_count": null,
      "outputs": []
    },
    {
      "cell_type": "markdown",
      "metadata": {
        "id": "11a3913e-5f4c-45a3-9a77-905c491d5098"
      },
      "source": [
        "### 2.3 적절한 K를 찾기"
      ],
      "id": "11a3913e-5f4c-45a3-9a77-905c491d5098"
    },
    {
      "cell_type": "code",
      "metadata": {
        "id": "00da26d2-f196-4b30-998e-c7605bd2706b"
      },
      "source": [
        "sse_per_n = []\n",
        "\n",
        "for n in range(1, 12, 2):\n",
        "    kmeans = KMeans(n_clusters=n)\n",
        "    kmeans.fit(data)\n",
        "    sse = kmeans.inertia_\n",
        "    sse_per_n += [sse]"
      ],
      "id": "00da26d2-f196-4b30-998e-c7605bd2706b",
      "execution_count": null,
      "outputs": []
    },
    {
      "cell_type": "code",
      "metadata": {
        "id": "6f83f0c2-268c-4673-991d-c71eaba46e1a"
      },
      "source": [
        "plt.plot(range(1, 12, 2), sse_per_n)\n",
        "plt.title(\"Sum of Sqaured Error\")"
      ],
      "id": "6f83f0c2-268c-4673-991d-c71eaba46e1a",
      "execution_count": null,
      "outputs": []
    },
    {
      "cell_type": "markdown",
      "metadata": {
        "id": "d4c90dc8-fd60-4b9a-b1dc-ef42f83c3cd1"
      },
      "source": [
        "## 3. K Means의 한계"
      ],
      "id": "d4c90dc8-fd60-4b9a-b1dc-ef42f83c3cd1"
    },
    {
      "cell_type": "markdown",
      "metadata": {
        "id": "1d51b1be-5fc6-42ac-b6e0-a71d6567a635"
      },
      "source": [
        "### 3.1 서로 다른 크기의 군집"
      ],
      "id": "1d51b1be-5fc6-42ac-b6e0-a71d6567a635"
    },
    {
      "cell_type": "code",
      "metadata": {
        "id": "f53127b2-e8c4-4d8d-8476-b9181c10ee09"
      },
      "source": [
        "size_data, size_label = make_blobs(\n",
        "    n_samples=1500,\n",
        "    cluster_std=[1.0, 2.5, 0.5],\n",
        "    random_state=170\n",
        ")"
      ],
      "id": "f53127b2-e8c4-4d8d-8476-b9181c10ee09",
      "execution_count": null,
      "outputs": []
    },
    {
      "cell_type": "code",
      "source": [
        "size_data"
      ],
      "metadata": {
        "id": "Sq4dVPHIwp_w"
      },
      "id": "Sq4dVPHIwp_w",
      "execution_count": null,
      "outputs": []
    },
    {
      "cell_type": "code",
      "metadata": {
        "id": "321fb2a8-482a-446a-96f5-d25fce230d59"
      },
      "source": [
        "size_data = np.vstack(\n",
        "    (size_data[size_label == 0][:500],\n",
        "     size_data[size_label == 1][:100],\n",
        "     size_data[size_label == 2][:10])\n",
        ")\n",
        "size_label = [0] * 500 + [1] * 100 + [2] * 10"
      ],
      "id": "321fb2a8-482a-446a-96f5-d25fce230d59",
      "execution_count": null,
      "outputs": []
    },
    {
      "cell_type": "code",
      "source": [
        "size_data.shape"
      ],
      "metadata": {
        "id": "XCItIauUC3L5"
      },
      "id": "XCItIauUC3L5",
      "execution_count": null,
      "outputs": []
    },
    {
      "cell_type": "code",
      "metadata": {
        "id": "fafc034e-c82e-4904-b7d5-abe23f0b49c0"
      },
      "source": [
        "plt.scatter(size_data[:, 0], size_data[:, 1], c=size_label)"
      ],
      "id": "fafc034e-c82e-4904-b7d5-abe23f0b49c0",
      "execution_count": null,
      "outputs": []
    },
    {
      "cell_type": "code",
      "metadata": {
        "id": "685d5d3a-1f6f-45f6-a5f3-451fb18db7ba"
      },
      "source": [
        "size_kmeans = KMeans(n_clusters=3, random_state=2021)"
      ],
      "id": "685d5d3a-1f6f-45f6-a5f3-451fb18db7ba",
      "execution_count": null,
      "outputs": []
    },
    {
      "cell_type": "code",
      "source": [
        "size_data.shape"
      ],
      "metadata": {
        "id": "fI2es5STEtUr"
      },
      "id": "fI2es5STEtUr",
      "execution_count": null,
      "outputs": []
    },
    {
      "cell_type": "code",
      "metadata": {
        "id": "3c5bcde0-a1df-4b95-9dd4-b774cd9657d4"
      },
      "source": [
        "size_pred = size_kmeans.fit_predict(size_data)"
      ],
      "id": "3c5bcde0-a1df-4b95-9dd4-b774cd9657d4",
      "execution_count": null,
      "outputs": []
    },
    {
      "cell_type": "code",
      "source": [
        "size_data"
      ],
      "metadata": {
        "id": "VwjHXvbuxyAo"
      },
      "id": "VwjHXvbuxyAo",
      "execution_count": null,
      "outputs": []
    },
    {
      "cell_type": "code",
      "metadata": {
        "id": "d9437609-a5ee-4216-b766-0d6aeed21326"
      },
      "source": [
        "size_center = size_kmeans.cluster_centers_"
      ],
      "id": "d9437609-a5ee-4216-b766-0d6aeed21326",
      "execution_count": null,
      "outputs": []
    },
    {
      "cell_type": "code",
      "metadata": {
        "id": "797b7424-feca-412a-a7fb-6f41b2eafdd7"
      },
      "source": [
        "plt.scatter(size_data[:, 0], size_data[:, 1], c=size_pred)\n",
        "plt.scatter(size_center[:, 0], size_center[:, 1], marker=\"*\", s=100, color=\"red\")"
      ],
      "id": "797b7424-feca-412a-a7fb-6f41b2eafdd7",
      "execution_count": null,
      "outputs": []
    },
    {
      "cell_type": "markdown",
      "metadata": {
        "id": "8b43a145-4439-49d7-9083-a6153c78d8ab"
      },
      "source": [
        "### 3.2 서로 다른 밀도의 군집"
      ],
      "id": "8b43a145-4439-49d7-9083-a6153c78d8ab"
    },
    {
      "cell_type": "code",
      "metadata": {
        "id": "fad82adb-8a9a-4356-b0c0-f97ee73f870e"
      },
      "source": [
        "density_data, density_label = make_blobs(\n",
        "    n_samples=1500,\n",
        "    cluster_std=[1.0, 2.5, 0.5],\n",
        "    random_state=170\n",
        ")"
      ],
      "id": "fad82adb-8a9a-4356-b0c0-f97ee73f870e",
      "execution_count": null,
      "outputs": []
    },
    {
      "cell_type": "code",
      "metadata": {
        "id": "da50e3ed-30d7-4f85-b953-619d1d462946"
      },
      "source": [
        "plt.scatter(density_data[:, 0], density_data[:, 1], c=density_label)"
      ],
      "id": "da50e3ed-30d7-4f85-b953-619d1d462946",
      "execution_count": null,
      "outputs": []
    },
    {
      "cell_type": "code",
      "metadata": {
        "id": "5b54839a-524a-4926-9232-6a58f0b9ff30"
      },
      "source": [
        "density_kmeans = KMeans(n_clusters=3, random_state=2021)"
      ],
      "id": "5b54839a-524a-4926-9232-6a58f0b9ff30",
      "execution_count": null,
      "outputs": []
    },
    {
      "cell_type": "code",
      "metadata": {
        "id": "75d2ba82-ac40-43be-b7dc-dc562a360fc8"
      },
      "source": [
        "density_pred = density_kmeans.fit_predict(density_data)"
      ],
      "id": "75d2ba82-ac40-43be-b7dc-dc562a360fc8",
      "execution_count": null,
      "outputs": []
    },
    {
      "cell_type": "code",
      "metadata": {
        "id": "84423a85-27ac-45b5-8788-24c0acc9328c"
      },
      "source": [
        "density_center = density_kmeans.cluster_centers_"
      ],
      "id": "84423a85-27ac-45b5-8788-24c0acc9328c",
      "execution_count": null,
      "outputs": []
    },
    {
      "cell_type": "code",
      "metadata": {
        "id": "83ea93a3-1cae-47c7-87cd-b67d309ed0fd"
      },
      "source": [
        "plt.scatter(density_data[:, 0], density_data[:, 1], c=density_pred)\n",
        "plt.scatter(density_center[:, 0], density_center[:, 1], marker=\"*\", s=100, color=\"red\")"
      ],
      "id": "83ea93a3-1cae-47c7-87cd-b67d309ed0fd",
      "execution_count": null,
      "outputs": []
    },
    {
      "cell_type": "markdown",
      "metadata": {
        "id": "10ad7dd5-44e4-455c-99d5-defd433588bf"
      },
      "source": [
        "### 3.3 지역적 패턴이 있는 군집"
      ],
      "id": "10ad7dd5-44e4-455c-99d5-defd433588bf"
    },
    {
      "cell_type": "code",
      "metadata": {
        "id": "20063571-d3c2-4978-8ea5-d04a3eff841b"
      },
      "source": [
        "transformation = [[0.60834549, -0.63667341], [-0.40887718, 0.85253229]]\n",
        "pattern_data = np.dot(data, transformation)"
      ],
      "id": "20063571-d3c2-4978-8ea5-d04a3eff841b",
      "execution_count": null,
      "outputs": []
    },
    {
      "cell_type": "code",
      "metadata": {
        "id": "64d9d681-d6ec-4705-a8d8-14a9395aca73"
      },
      "source": [
        "plt.scatter(pattern_data[:, 0], pattern_data[:, 1], c=label)"
      ],
      "id": "64d9d681-d6ec-4705-a8d8-14a9395aca73",
      "execution_count": null,
      "outputs": []
    },
    {
      "cell_type": "code",
      "metadata": {
        "id": "60e1a7b8-a2c0-424a-827a-49c5655d5a3a"
      },
      "source": [
        "pattern_kmeans = KMeans(n_clusters=3, random_state=2021)"
      ],
      "id": "60e1a7b8-a2c0-424a-827a-49c5655d5a3a",
      "execution_count": null,
      "outputs": []
    },
    {
      "cell_type": "code",
      "metadata": {
        "id": "90f1f10b-c15b-4ed4-91d6-f85bf157c0d5"
      },
      "source": [
        "pattern_pred = pattern_kmeans.fit_predict(pattern_data)"
      ],
      "id": "90f1f10b-c15b-4ed4-91d6-f85bf157c0d5",
      "execution_count": null,
      "outputs": []
    },
    {
      "cell_type": "code",
      "metadata": {
        "id": "99bca82f-4666-47a0-9bd9-b31fe129c4a2"
      },
      "source": [
        "pattern_center = pattern_kmeans.cluster_centers_"
      ],
      "id": "99bca82f-4666-47a0-9bd9-b31fe129c4a2",
      "execution_count": null,
      "outputs": []
    },
    {
      "cell_type": "code",
      "metadata": {
        "id": "27ca6b6c-9108-4a16-9578-72132cfb8d82"
      },
      "source": [
        "plt.scatter(pattern_data[:, 0], pattern_data[:, 1], c=pattern_pred)\n",
        "plt.scatter(pattern_center[:, 0], pattern_center[:, 1], marker=\"*\", s=100, color=\"red\")"
      ],
      "id": "27ca6b6c-9108-4a16-9578-72132cfb8d82",
      "execution_count": null,
      "outputs": []
    },
    {
      "cell_type": "markdown",
      "metadata": {
        "id": "b4d6f13f-a9ea-4b99-9f70-52d9910a5f8b"
      },
      "source": [
        "## 4. DBSCAN"
      ],
      "id": "b4d6f13f-a9ea-4b99-9f70-52d9910a5f8b"
    },
    {
      "cell_type": "markdown",
      "metadata": {
        "id": "3685f305-bd38-455d-9d4b-d0ad565e8b3d"
      },
      "source": [
        "이번에는 DBSCAN을 이용해 K Means의 한계가 있던 데이터에 적용해 보겠습니다."
      ],
      "id": "3685f305-bd38-455d-9d4b-d0ad565e8b3d"
    },
    {
      "cell_type": "code",
      "metadata": {
        "id": "3d83ad62-f4a6-4b87-8ffb-3f529b22785c"
      },
      "source": [
        "from sklearn.cluster import DBSCAN"
      ],
      "id": "3d83ad62-f4a6-4b87-8ffb-3f529b22785c",
      "execution_count": null,
      "outputs": []
    },
    {
      "cell_type": "markdown",
      "metadata": {
        "id": "cac1a01d-c03e-417e-ba0b-592c33e6dfee"
      },
      "source": [
        "### 4.1 서로 다른 크기의 군집"
      ],
      "id": "cac1a01d-c03e-417e-ba0b-592c33e6dfee"
    },
    {
      "cell_type": "code",
      "metadata": {
        "id": "ffa34c85-b390-45b3-9ca7-1cb6c678d190"
      },
      "source": [
        "size_dbscan = DBSCAN(eps=1.0)"
      ],
      "id": "ffa34c85-b390-45b3-9ca7-1cb6c678d190",
      "execution_count": null,
      "outputs": []
    },
    {
      "cell_type": "code",
      "metadata": {
        "id": "55a28a60-c288-4e21-ba64-fa96533efc18"
      },
      "source": [
        "size_db_pred = size_dbscan.fit_predict(size_data)"
      ],
      "id": "55a28a60-c288-4e21-ba64-fa96533efc18",
      "execution_count": null,
      "outputs": []
    },
    {
      "cell_type": "code",
      "metadata": {
        "id": "d5330705-fb95-42d7-9e2f-bdc521199581"
      },
      "source": [
        "plt.scatter(size_data[:, 0], size_data[:, 1], c=size_db_pred)"
      ],
      "id": "d5330705-fb95-42d7-9e2f-bdc521199581",
      "execution_count": null,
      "outputs": []
    },
    {
      "cell_type": "markdown",
      "metadata": {
        "id": "ee527ffa-d637-4354-b652-b2d9391d1381"
      },
      "source": [
        "### 4.2 서로 다른 밀도의 군집"
      ],
      "id": "ee527ffa-d637-4354-b652-b2d9391d1381"
    },
    {
      "cell_type": "code",
      "metadata": {
        "id": "b9d19a6f-b479-413d-bf87-a4c2cb2506b5"
      },
      "source": [
        "density_dbscan = DBSCAN()"
      ],
      "id": "b9d19a6f-b479-413d-bf87-a4c2cb2506b5",
      "execution_count": null,
      "outputs": []
    },
    {
      "cell_type": "code",
      "metadata": {
        "id": "a562b10f-c9c8-43ce-9b81-60c3c334e80b"
      },
      "source": [
        "density_db_pred = density_dbscan.fit_predict(density_data)"
      ],
      "id": "a562b10f-c9c8-43ce-9b81-60c3c334e80b",
      "execution_count": null,
      "outputs": []
    },
    {
      "cell_type": "code",
      "metadata": {
        "id": "5b9891f1-6a2f-4e56-821b-9699593ed784"
      },
      "source": [
        "plt.scatter(density_data[:, 0], density_data[:, 1], c=density_db_pred)"
      ],
      "id": "5b9891f1-6a2f-4e56-821b-9699593ed784",
      "execution_count": null,
      "outputs": []
    },
    {
      "cell_type": "markdown",
      "metadata": {
        "id": "689c8955-a59b-4983-9614-6c58be499825"
      },
      "source": [
        "### 4.3 지역적 패턴이 있는 군집"
      ],
      "id": "689c8955-a59b-4983-9614-6c58be499825"
    },
    {
      "cell_type": "code",
      "metadata": {
        "id": "f41a7e40-b984-4b19-a1f1-4ae30bbb52c0"
      },
      "source": [
        "pattern_db = DBSCAN(eps=.3, min_samples=20)"
      ],
      "id": "f41a7e40-b984-4b19-a1f1-4ae30bbb52c0",
      "execution_count": null,
      "outputs": []
    },
    {
      "cell_type": "code",
      "metadata": {
        "id": "49b79c3d-2c7a-49a7-a884-386ab2345800"
      },
      "source": [
        "pattern_db_pred = pattern_db.fit_predict(pattern_data)"
      ],
      "id": "49b79c3d-2c7a-49a7-a884-386ab2345800",
      "execution_count": null,
      "outputs": []
    },
    {
      "cell_type": "code",
      "metadata": {
        "id": "e0972428-99c9-4f32-8263-02943db14e3e"
      },
      "source": [
        "plt.scatter(pattern_data[:, 0], pattern_data[:, 1], c=pattern_db_pred)"
      ],
      "id": "e0972428-99c9-4f32-8263-02943db14e3e",
      "execution_count": null,
      "outputs": []
    }
  ]
}