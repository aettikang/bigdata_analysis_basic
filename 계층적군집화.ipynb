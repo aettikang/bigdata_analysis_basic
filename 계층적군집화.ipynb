{
  "nbformat": 4,
  "nbformat_minor": 5,
  "metadata": {
    "kernelspec": {
      "display_name": "Python 3 (ipykernel)",
      "language": "python",
      "name": "python3"
    },
    "language_info": {
      "codemirror_mode": {
        "name": "ipython",
        "version": 3
      },
      "file_extension": ".py",
      "mimetype": "text/x-python",
      "name": "python",
      "nbconvert_exporter": "python",
      "pygments_lexer": "ipython3",
      "version": "3.8.10"
    },
    "colab": {
      "name": "계층적군집화.ipynb",
      "provenance": [],
      "collapsed_sections": [],
      "include_colab_link": true
    }
  },
  "cells": [
    {
      "cell_type": "markdown",
      "metadata": {
        "id": "view-in-github",
        "colab_type": "text"
      },
      "source": [
        "<a href=\"https://colab.research.google.com/github/aettikang/bigdata_analysis_basic/blob/main/%EA%B3%84%EC%B8%B5%EC%A0%81%EA%B5%B0%EC%A7%91%ED%99%94.ipynb\" target=\"_parent\"><img src=\"https://colab.research.google.com/assets/colab-badge.svg\" alt=\"Open In Colab\"/></a>"
      ]
    },
    {
      "cell_type": "markdown",
      "metadata": {
        "id": "0224bbaf-b235-4f2b-bbff-74b64f037b15"
      },
      "source": [
        "# 샘플 데이터와 Hierarchical Clustering"
      ],
      "id": "0224bbaf-b235-4f2b-bbff-74b64f037b15"
    },
    {
      "cell_type": "code",
      "metadata": {
        "id": "c339323c-3ab8-427c-82ce-6d49b3fa5c19"
      },
      "source": [
        "import pandas as pd\n",
        "import numpy as np\n",
        "import matplotlib.pyplot as plt\n",
        "\n",
        "\n",
        "np.random.seed(2021)"
      ],
      "id": "c339323c-3ab8-427c-82ce-6d49b3fa5c19",
      "execution_count": null,
      "outputs": []
    },
    {
      "cell_type": "markdown",
      "metadata": {
        "id": "04972ad4-28dc-45d9-a5a5-01cef950dc9a"
      },
      "source": [
        "## 1. Data"
      ],
      "id": "04972ad4-28dc-45d9-a5a5-01cef950dc9a"
    },
    {
      "cell_type": "markdown",
      "metadata": {
        "id": "b1194f7d-05fb-4ce0-9560-80acba239754"
      },
      "source": [
        "### 1.1 Sample data\n",
        "\n",
        "이번 실습에서는 강의에서 예제로 보여드린 데이터를 이용해 진행합니다."
      ],
      "id": "b1194f7d-05fb-4ce0-9560-80acba239754"
    },
    {
      "cell_type": "code",
      "metadata": {
        "id": "f2485c5f-c4b5-4594-8c49-3525b1da60c7"
      },
      "source": [
        "data = np.array(\n",
        "    [\n",
        "        (1, 5),\n",
        "        (2, 4),\n",
        "        (4, 6),\n",
        "        (4, 3),\n",
        "        (5, 3),\n",
        "    ]\n",
        ")"
      ],
      "id": "f2485c5f-c4b5-4594-8c49-3525b1da60c7",
      "execution_count": null,
      "outputs": []
    },
    {
      "cell_type": "code",
      "source": [
        "data.shape"
      ],
      "metadata": {
        "colab": {
          "base_uri": "https://localhost:8080/"
        },
        "id": "9jO09bXn2CdO",
        "outputId": "d5a8ae31-4685-4b9d-e0ca-d9af26d07199"
      },
      "id": "9jO09bXn2CdO",
      "execution_count": null,
      "outputs": [
        {
          "output_type": "execute_result",
          "data": {
            "text/plain": [
              "(5, 2)"
            ]
          },
          "metadata": {},
          "execution_count": 37
        }
      ]
    },
    {
      "cell_type": "code",
      "metadata": {
        "colab": {
          "base_uri": "https://localhost:8080/"
        },
        "id": "6e25f437-668b-4134-b91f-3131b2139a60",
        "outputId": "9471ce2b-2dff-40b4-afaf-89ea1a62bfe8"
      },
      "source": [
        "data"
      ],
      "id": "6e25f437-668b-4134-b91f-3131b2139a60",
      "execution_count": null,
      "outputs": [
        {
          "output_type": "execute_result",
          "data": {
            "text/plain": [
              "array([[1, 5],\n",
              "       [2, 4],\n",
              "       [4, 6],\n",
              "       [4, 3],\n",
              "       [5, 3]])"
            ]
          },
          "metadata": {},
          "execution_count": 3
        }
      ]
    },
    {
      "cell_type": "markdown",
      "metadata": {
        "id": "99adf83f-3c44-4ec6-9235-727e826f8d1b"
      },
      "source": [
        "## 2. Hierarchical Clustering"
      ],
      "id": "99adf83f-3c44-4ec6-9235-727e826f8d1b"
    },
    {
      "cell_type": "markdown",
      "metadata": {
        "id": "17610dcd-4511-4820-8b7a-e17919d8c11a"
      },
      "source": [
        "Hierarchical Clustering은 `sklearn.cluster` 의 `AgglomerativeClustering` 를 이용합니다.  \n",
        "강의에서 배운 연결 법들은 4가지로 다음과 같습니다.\n",
        "1. 최단 연결법\n",
        "2. 최장 연결법\n",
        "3. 평균 연결법\n",
        "4. 중심 연결법\n",
        "\n",
        "이를 적용하기 위해서는 `linkage` argument를 통해서 가능합니다.\n",
        "- average\n",
        "    - 평균 연결법\n",
        "- complete\n",
        "    - 최장 연결법\n",
        "- single\n",
        "    - 최단 연결법\n",
        "- ward\n",
        "    - 중심 연결법\n",
        "   \n",
        "기본 값은 `ward` 입니다."
      ],
      "id": "17610dcd-4511-4820-8b7a-e17919d8c11a"
    },
    {
      "cell_type": "markdown",
      "metadata": {
        "id": "6e9f0f25-0bf8-4731-bab6-654f5d4a4cbc"
      },
      "source": [
        "### 2.1 학습"
      ],
      "id": "6e9f0f25-0bf8-4731-bab6-654f5d4a4cbc"
    },
    {
      "cell_type": "markdown",
      "metadata": {
        "id": "80528bf1-9e03-46c4-ab66-174eacb24f7e"
      },
      "source": [
        "우선 강의에서 예제로 사용한 최단 연결법입니다."
      ],
      "id": "80528bf1-9e03-46c4-ab66-174eacb24f7e"
    },
    {
      "cell_type": "code",
      "metadata": {
        "id": "d0ff0d3c-82a8-4a1c-84b1-b486be87d207"
      },
      "source": [
        "from sklearn.cluster import AgglomerativeClustering\n",
        "\n",
        "\n",
        "single_cluster = AgglomerativeClustering(\n",
        "    distance_threshold=0, n_clusters=None, linkage=\"single\"\n",
        ")"
      ],
      "id": "d0ff0d3c-82a8-4a1c-84b1-b486be87d207",
      "execution_count": null,
      "outputs": []
    },
    {
      "cell_type": "code",
      "metadata": {
        "id": "a233e38f-3c4b-47f6-9eec-f0d58837a524"
      },
      "source": [
        "single_cluster.fit(data)"
      ],
      "id": "a233e38f-3c4b-47f6-9eec-f0d58837a524",
      "execution_count": null,
      "outputs": []
    },
    {
      "cell_type": "markdown",
      "metadata": {
        "id": "d39ed200-b1f9-4d65-b4d6-7b125b0dab72"
      },
      "source": [
        "### 2.2 Dendrogram"
      ],
      "id": "d39ed200-b1f9-4d65-b4d6-7b125b0dab72"
    },
    {
      "cell_type": "code",
      "metadata": {
        "id": "9696ce79-02d5-450e-b4f5-34af5765cf7e"
      },
      "source": [
        "from scipy.cluster.hierarchy import dendrogram\n",
        "\n",
        "\n",
        "def plot_dendrogram(model, **kwargs):\n",
        "    counts = np.zeros(model.children_.shape[0])\n",
        "    n_samples = len(model.labels_)\n",
        "    for i, merge in enumerate(model.children_):\n",
        "        current_count = 0\n",
        "        for child_idx in merge:\n",
        "            if child_idx < n_samples:\n",
        "                current_count += 1  # leaf node\n",
        "            else:\n",
        "                current_count += counts[child_idx - n_samples]\n",
        "        counts[i] = current_count\n",
        "\n",
        "    linkage_matrix = np.column_stack([model.children_, model.distances_,\n",
        "                                      counts]).astype(float)\n",
        "\n",
        "    dendrogram(linkage_matrix, **kwargs, labels=[\"A\", \"B\", \"C\", \"D\", \"E\"])"
      ],
      "id": "9696ce79-02d5-450e-b4f5-34af5765cf7e",
      "execution_count": null,
      "outputs": []
    },
    {
      "cell_type": "markdown",
      "metadata": {
        "id": "eadf9a20-bd34-43ea-bd65-5563538d7ce3"
      },
      "source": [
        "실제로 강의에서 사용한 것 과 같은지 확인합니다."
      ],
      "id": "eadf9a20-bd34-43ea-bd65-5563538d7ce3"
    },
    {
      "cell_type": "code",
      "metadata": {
        "id": "849b527a-2e8a-47f9-9aa0-fd0a1c50800c"
      },
      "source": [
        "plt.title('Hierarchical Clustering Dendrogram with single linkage')\n",
        "plot_dendrogram(single_cluster, truncate_mode='level', p=3)\n",
        "plt.show()"
      ],
      "id": "849b527a-2e8a-47f9-9aa0-fd0a1c50800c",
      "execution_count": null,
      "outputs": []
    },
    {
      "cell_type": "markdown",
      "metadata": {
        "id": "358c69e7-afb3-4a1a-88dd-079dcfc72568"
      },
      "source": [
        "### 2.3 여러 개의 클러스터\n",
        "\n",
        "위에서 사용한 argument들은 데이터 전부를 묶는 방식의 Clustering 입니다.  \n",
        "이제 n 개의 clustering으로 만들어 보겠습니다."
      ],
      "id": "358c69e7-afb3-4a1a-88dd-079dcfc72568"
    },
    {
      "cell_type": "markdown",
      "metadata": {
        "id": "8d8d59fc-bb76-458b-8113-c8ca52020dd9"
      },
      "source": [
        "#### 2.3.1 2개의 클러스터"
      ],
      "id": "8d8d59fc-bb76-458b-8113-c8ca52020dd9"
    },
    {
      "cell_type": "code",
      "metadata": {
        "id": "50684c48-3d15-4854-b6e7-2600a79f0697"
      },
      "source": [
        "single_cluster_2 = AgglomerativeClustering(\n",
        "    n_clusters=2, linkage=\"single\"\n",
        ")"
      ],
      "id": "50684c48-3d15-4854-b6e7-2600a79f0697",
      "execution_count": null,
      "outputs": []
    },
    {
      "cell_type": "code",
      "metadata": {
        "colab": {
          "base_uri": "https://localhost:8080/"
        },
        "id": "f1c1eb77-f0a0-4ae6-bef4-6e902dde9a1f",
        "outputId": "79180164-bde7-405a-b1b7-f22a53e28219"
      },
      "source": [
        "single_cluster_2.fit(data)"
      ],
      "id": "f1c1eb77-f0a0-4ae6-bef4-6e902dde9a1f",
      "execution_count": null,
      "outputs": [
        {
          "output_type": "execute_result",
          "data": {
            "text/plain": [
              "AgglomerativeClustering(linkage='single')"
            ]
          },
          "metadata": {},
          "execution_count": 10
        }
      ]
    },
    {
      "cell_type": "code",
      "metadata": {
        "colab": {
          "base_uri": "https://localhost:8080/"
        },
        "id": "224fc62b-7d45-4f15-aa05-a2a603f91713",
        "outputId": "623b1e53-c151-4331-edd3-fee0ca86b747"
      },
      "source": [
        "single_cluster_2.labels_"
      ],
      "id": "224fc62b-7d45-4f15-aa05-a2a603f91713",
      "execution_count": null,
      "outputs": [
        {
          "output_type": "execute_result",
          "data": {
            "text/plain": [
              "array([0, 0, 1, 0, 0])"
            ]
          },
          "metadata": {},
          "execution_count": 11
        }
      ]
    },
    {
      "cell_type": "code",
      "metadata": {
        "id": "1f31dea5-f793-4cfd-98f9-958d59179b6b"
      },
      "source": [
        "plt.figure(figsize=(7, 7))\n",
        "plt.scatter(data[:, 0], data[:, 1], c=single_cluster_2.labels_)\n",
        "for i, txt in enumerate([\"A\", \"B\", \"C\", \"D\", \"E\"]):\n",
        "    plt.annotate(txt, (data[i, 0], data[i, 1]))"
      ],
      "id": "1f31dea5-f793-4cfd-98f9-958d59179b6b",
      "execution_count": null,
      "outputs": []
    },
    {
      "cell_type": "markdown",
      "metadata": {
        "id": "da1d875f-d0a9-4a23-805b-1fa8b370c595"
      },
      "source": [
        "#### 2.3.2 3개의 클러스터"
      ],
      "id": "da1d875f-d0a9-4a23-805b-1fa8b370c595"
    },
    {
      "cell_type": "code",
      "metadata": {
        "id": "cb6f4fa4-9444-43ad-8ac6-3d8c2809c54d"
      },
      "source": [
        "single_cluster_3 = AgglomerativeClustering(\n",
        "    n_clusters=3, linkage=\"single\"\n",
        ")"
      ],
      "id": "cb6f4fa4-9444-43ad-8ac6-3d8c2809c54d",
      "execution_count": null,
      "outputs": []
    },
    {
      "cell_type": "code",
      "metadata": {
        "id": "caf71eeb-ec31-45b7-8a7d-4d0d31b6be62"
      },
      "source": [
        "single_cluster_3.fit(data)"
      ],
      "id": "caf71eeb-ec31-45b7-8a7d-4d0d31b6be62",
      "execution_count": null,
      "outputs": []
    },
    {
      "cell_type": "code",
      "metadata": {
        "id": "bb9a1322-d22e-4f80-a872-06f72934566f"
      },
      "source": [
        "single_cluster_3.labels_"
      ],
      "id": "bb9a1322-d22e-4f80-a872-06f72934566f",
      "execution_count": null,
      "outputs": []
    },
    {
      "cell_type": "code",
      "metadata": {
        "id": "1cf5b182-a356-468e-9af7-905bbd2dfaf5"
      },
      "source": [
        "plt.figure(figsize=(7, 7))\n",
        "plt.scatter(data[:, 0], data[:, 1], c=single_cluster_3.labels_)\n",
        "for i, txt in enumerate([\"A\", \"B\", \"C\", \"D\", \"E\"]):\n",
        "    plt.annotate(txt, (data[i, 0], data[i, 1]))"
      ],
      "id": "1cf5b182-a356-468e-9af7-905bbd2dfaf5",
      "execution_count": null,
      "outputs": []
    },
    {
      "cell_type": "markdown",
      "metadata": {
        "id": "f131da35-7f59-45c9-9435-ead8a8777423"
      },
      "source": [
        "## 3. 다른 연결법"
      ],
      "id": "f131da35-7f59-45c9-9435-ead8a8777423"
    },
    {
      "cell_type": "markdown",
      "metadata": {
        "id": "e38e2f4d-cdff-41cc-9892-8073a1ebf0ec"
      },
      "source": [
        "이제는 다른 연결법들을 해보겠습니다."
      ],
      "id": "e38e2f4d-cdff-41cc-9892-8073a1ebf0ec"
    },
    {
      "cell_type": "markdown",
      "metadata": {
        "id": "274d89bf-c52c-4a03-b452-cf6f17d04d10"
      },
      "source": [
        "### 3.1 평균 연결법"
      ],
      "id": "274d89bf-c52c-4a03-b452-cf6f17d04d10"
    },
    {
      "cell_type": "code",
      "metadata": {
        "id": "71c618fd-ece2-4a96-bd5b-fde43928475d"
      },
      "source": [
        "avg_cluster = AgglomerativeClustering(\n",
        "    distance_threshold=0, n_clusters=None, linkage=\"average\"\n",
        ")"
      ],
      "id": "71c618fd-ece2-4a96-bd5b-fde43928475d",
      "execution_count": null,
      "outputs": []
    },
    {
      "cell_type": "code",
      "metadata": {
        "id": "924faede-fcee-4d3a-a7cb-89f81e79c21c"
      },
      "source": [
        "avg_cluster.fit(data)"
      ],
      "id": "924faede-fcee-4d3a-a7cb-89f81e79c21c",
      "execution_count": null,
      "outputs": []
    },
    {
      "cell_type": "code",
      "metadata": {
        "id": "848e9bd5-2e4a-4234-8a71-635cc201e488"
      },
      "source": [
        "plt.title('Hierarchical Clustering Dendrogram with Average linkage')\n",
        "plot_dendrogram(avg_cluster, truncate_mode='level', p=3)\n",
        "plt.show()"
      ],
      "id": "848e9bd5-2e4a-4234-8a71-635cc201e488",
      "execution_count": null,
      "outputs": []
    },
    {
      "cell_type": "markdown",
      "metadata": {
        "id": "f4c2d236-fc3d-4f9e-83af-6942449a09ba"
      },
      "source": [
        "### 3.2 최장 연결법"
      ],
      "id": "f4c2d236-fc3d-4f9e-83af-6942449a09ba"
    },
    {
      "cell_type": "code",
      "metadata": {
        "id": "cf878210-3847-4392-a733-cb1f234e91bd"
      },
      "source": [
        "max_cluster = AgglomerativeClustering(\n",
        "    distance_threshold=0, n_clusters=None, linkage=\"complete\"\n",
        ")"
      ],
      "id": "cf878210-3847-4392-a733-cb1f234e91bd",
      "execution_count": null,
      "outputs": []
    },
    {
      "cell_type": "code",
      "metadata": {
        "id": "9f25cee5-11cd-4d71-b90a-576aa8aa33bf"
      },
      "source": [
        "max_cluster.fit(data)"
      ],
      "id": "9f25cee5-11cd-4d71-b90a-576aa8aa33bf",
      "execution_count": null,
      "outputs": []
    },
    {
      "cell_type": "code",
      "metadata": {
        "id": "6e46409c-a61d-4fcf-9f9c-1b45ac5cd0e9"
      },
      "source": [
        "plt.title('Hierarchical Clustering Dendrogram with Maximum linkage')\n",
        "plot_dendrogram(max_cluster, truncate_mode='level', p=3)\n",
        "plt.show()"
      ],
      "id": "6e46409c-a61d-4fcf-9f9c-1b45ac5cd0e9",
      "execution_count": null,
      "outputs": []
    },
    {
      "cell_type": "markdown",
      "metadata": {
        "id": "a7da05ca-a0c7-428c-ab2b-05f818be02a0"
      },
      "source": [
        "### 3.3 중심 연결법"
      ],
      "id": "a7da05ca-a0c7-428c-ab2b-05f818be02a0"
    },
    {
      "cell_type": "code",
      "metadata": {
        "id": "71980960-1f8e-43a4-813b-2e2ddc471a65"
      },
      "source": [
        "centroid_cluster = AgglomerativeClustering(\n",
        "    distance_threshold=0, n_clusters=None, linkage=\"ward\"\n",
        ")"
      ],
      "id": "71980960-1f8e-43a4-813b-2e2ddc471a65",
      "execution_count": null,
      "outputs": []
    },
    {
      "cell_type": "code",
      "metadata": {
        "colab": {
          "base_uri": "https://localhost:8080/"
        },
        "id": "426b1b0f-cc6c-468e-80d1-cf2c31a27216",
        "outputId": "639d74ad-2d77-4b22-9b68-3190d01b7966"
      },
      "source": [
        "centroid_cluster.fit(data)"
      ],
      "id": "426b1b0f-cc6c-468e-80d1-cf2c31a27216",
      "execution_count": null,
      "outputs": [
        {
          "output_type": "execute_result",
          "data": {
            "text/plain": [
              "AgglomerativeClustering(distance_threshold=0, n_clusters=None)"
            ]
          },
          "metadata": {},
          "execution_count": 24
        }
      ]
    },
    {
      "cell_type": "code",
      "metadata": {
        "id": "0f50d741-29c8-4e11-9a07-a4507f0506fe"
      },
      "source": [
        "plt.title('Hierarchical Clustering Dendrogram with Centorid linkage')\n",
        "plot_dendrogram(centroid_cluster, truncate_mode='level', p=3)\n",
        "plt.show()"
      ],
      "id": "0f50d741-29c8-4e11-9a07-a4507f0506fe",
      "execution_count": null,
      "outputs": []
    },
    {
      "cell_type": "markdown",
      "metadata": {
        "id": "6715f6bc-a4b7-46d2-a396-c36e69abed94"
      },
      "source": [
        "## 4. 마무리"
      ],
      "id": "6715f6bc-a4b7-46d2-a396-c36e69abed94"
    },
    {
      "cell_type": "code",
      "metadata": {
        "id": "46a8d9ed-a6c7-4f4b-b811-807ab360d0e5"
      },
      "source": [
        "clusters = [\n",
        "    (\"Single\", single_cluster),\n",
        "    (\"Average\", avg_cluster),\n",
        "    (\"Maximum\", max_cluster),\n",
        "    (\"Centroid\", centroid_cluster),\n",
        "]"
      ],
      "id": "46a8d9ed-a6c7-4f4b-b811-807ab360d0e5",
      "execution_count": null,
      "outputs": []
    },
    {
      "cell_type": "code",
      "metadata": {
        "id": "a02f88e9-19b8-430b-8ab3-c859e0bb76f7"
      },
      "source": [
        "fig, axes = plt.subplots(nrows=2, ncols=2, figsize=(15, 10))\n",
        "\n",
        "for idx, (name, cluster) in enumerate(clusters):\n",
        "    ax = axes[idx//2, idx%2]\n",
        "    ax.set_title(f'Hierarchical Clustering Dendrogram with {name} linkage')\n",
        "    plot_dendrogram(cluster, truncate_mode='level', p=3, ax=ax)"
      ],
      "id": "a02f88e9-19b8-430b-8ab3-c859e0bb76f7",
      "execution_count": null,
      "outputs": []
    }
  ]
}