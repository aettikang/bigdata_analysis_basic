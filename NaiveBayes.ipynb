{
  "nbformat": 4,
  "nbformat_minor": 0,
  "metadata": {
    "colab": {
      "name": "NaiveBayes.ipynb",
      "provenance": [],
      "collapsed_sections": [],
      "mount_file_id": "1ICP_LUTmxe1P6TYmT65bkuy13aOWzumG",
      "authorship_tag": "ABX9TyO5tUhHXJQ+TXCDHST3J5Zm",
      "include_colab_link": true
    },
    "kernelspec": {
      "name": "python3",
      "display_name": "Python 3"
    },
    "language_info": {
      "name": "python"
    }
  },
  "cells": [
    {
      "cell_type": "markdown",
      "metadata": {
        "id": "view-in-github",
        "colab_type": "text"
      },
      "source": [
        "<a href=\"https://colab.research.google.com/github/aettikang/bigdata_analysis_basic/blob/main/NaiveBayes.ipynb\" target=\"_parent\"><img src=\"https://colab.research.google.com/assets/colab-badge.svg\" alt=\"Open In Colab\"/></a>"
      ]
    },
    {
      "cell_type": "code",
      "metadata": {
        "id": "E5NuIOvHG51k"
      },
      "source": [
        "from sklearn import datasets\n",
        "from sklearn.naive_bayes import GaussianNB\n",
        "from sklearn.metrics import confusion_matrix\n",
        "import pandas as pd"
      ],
      "execution_count": null,
      "outputs": []
    },
    {
      "cell_type": "code",
      "metadata": {
        "id": "7eKA8hsVSN5c"
      },
      "source": [
        "iris = datasets.load_iris()\n",
        "df_X=pd.DataFrame(iris.data)\n",
        "df_Y=pd.DataFrame(iris.target)"
      ],
      "execution_count": null,
      "outputs": []
    },
    {
      "cell_type": "code",
      "metadata": {
        "id": "uE2mf2fLSSTC"
      },
      "source": [
        "df_X.head()"
      ],
      "execution_count": null,
      "outputs": []
    },
    {
      "cell_type": "code",
      "metadata": {
        "id": "CMFM_V4oSVrV"
      },
      "source": [
        "df_Y.value_counts()"
      ],
      "execution_count": null,
      "outputs": []
    },
    {
      "cell_type": "code",
      "metadata": {
        "id": "hJZMG2VG6COZ",
        "colab": {
          "base_uri": "https://localhost:8080/"
        },
        "outputId": "161f7245-52fb-4403-ccba-ed328d693ced"
      },
      "source": [
        "gnb1=GaussianNB(priors=[1/10, 3/10, 6/10])\n",
        "fitted1=gnb1.fit(iris.data,iris.target)\n",
        "y_pred1=fitted1.predict(iris.data)\n",
        "confusion_matrix(iris.target,y_pred1)"
      ],
      "execution_count": null,
      "outputs": [
        {
          "output_type": "execute_result",
          "data": {
            "text/plain": [
              "array([[50,  0,  0],\n",
              "       [ 0, 45,  5],\n",
              "       [ 0,  3, 47]])"
            ]
          },
          "metadata": {},
          "execution_count": 3
        }
      ]
    },
    {
      "cell_type": "code",
      "metadata": {
        "id": "sdUT6snh6LOs",
        "colab": {
          "base_uri": "https://localhost:8080/"
        },
        "outputId": "9ab63464-08e8-4984-ff69-f275953b6924"
      },
      "source": [
        "accuracy = 100 * (iris.target == y_pred1).sum()/iris.data.shape[0]\n",
        "print(\"Accuracy = \",accuracy)"
      ],
      "execution_count": null,
      "outputs": [
        {
          "output_type": "stream",
          "name": "stdout",
          "text": [
            "Accuracy =  94.66666666666667\n"
          ]
        }
      ]
    },
    {
      "cell_type": "code",
      "metadata": {
        "id": "jNr16KemSrVe",
        "colab": {
          "base_uri": "https://localhost:8080/"
        },
        "outputId": "5f139c61-e997-4d05-f6d8-7c16cd54fd5e"
      },
      "source": [
        "from sklearn.calibration import CalibratedClassifierCV\n",
        "\n",
        "classifer_sigmoid = CalibratedClassifierCV(gnb1, cv=2, method='sigmoid')\n",
        "classifer_sigmoid.fit(df_X,df_Y)\n",
        "new_observation = [[ 6.0,  2.6,  5.0,  1.7]]\n",
        "classifer_sigmoid.predict_proba(new_observation)"
      ],
      "execution_count": null,
      "outputs": [
        {
          "output_type": "stream",
          "name": "stderr",
          "text": [
            "/usr/local/lib/python3.7/dist-packages/sklearn/preprocessing/_label.py:98: DataConversionWarning: A column-vector y was passed when a 1d array was expected. Please change the shape of y to (n_samples, ), for example using ravel().\n",
            "  y = column_or_1d(y, warn=True)\n",
            "/usr/local/lib/python3.7/dist-packages/sklearn/utils/validation.py:993: DataConversionWarning: A column-vector y was passed when a 1d array was expected. Please change the shape of y to (n_samples, ), for example using ravel().\n",
            "  y = column_or_1d(y, warn=True)\n",
            "/usr/local/lib/python3.7/dist-packages/sklearn/utils/validation.py:993: DataConversionWarning: A column-vector y was passed when a 1d array was expected. Please change the shape of y to (n_samples, ), for example using ravel().\n",
            "  y = column_or_1d(y, warn=True)\n"
          ]
        },
        {
          "output_type": "execute_result",
          "data": {
            "text/plain": [
              "array([[0.02152027, 0.27196969, 0.70651003]])"
            ]
          },
          "metadata": {},
          "execution_count": 5
        }
      ]
    },
    {
      "cell_type": "code",
      "metadata": {
        "id": "Rh_3uZGASjP-",
        "colab": {
          "base_uri": "https://localhost:8080/"
        },
        "outputId": "1c105b84-45ce-4ba4-acf9-d2ca51ca8352"
      },
      "source": [
        "gnb2=GaussianNB(priors=[1/10, 6/10, 3/10])\n",
        "fitted2=gnb2.fit(iris.data,iris.target)\n",
        "y_pred2=fitted2.predict(iris.data)\n",
        "confusion_matrix(iris.target,y_pred2)"
      ],
      "execution_count": null,
      "outputs": [
        {
          "output_type": "execute_result",
          "data": {
            "text/plain": [
              "array([[50,  0,  0],\n",
              "       [ 0, 48,  2],\n",
              "       [ 0,  4, 46]])"
            ]
          },
          "metadata": {},
          "execution_count": 6
        }
      ]
    },
    {
      "cell_type": "code",
      "metadata": {
        "id": "_5ZUFaR6UYaX",
        "colab": {
          "base_uri": "https://localhost:8080/"
        },
        "outputId": "069c3b0c-cbc0-44ef-f4f6-306b519cfc28"
      },
      "source": [
        "accuracy = 100 * (iris.target == y_pred2).sum()/iris.data.shape[0]\n",
        "print(\"Accuracy = \",accuracy)"
      ],
      "execution_count": null,
      "outputs": [
        {
          "output_type": "stream",
          "name": "stdout",
          "text": [
            "Accuracy =  96.0\n"
          ]
        }
      ]
    },
    {
      "cell_type": "code",
      "metadata": {
        "colab": {
          "base_uri": "https://localhost:8080/"
        },
        "id": "QOV6ZAvHPdj_",
        "outputId": "ad5b9e70-f8a2-4c91-a512-660d42b5fad4"
      },
      "source": [
        "from sklearn.calibration import CalibratedClassifierCV\n",
        "\n",
        "classifer_sigmoid = CalibratedClassifierCV(gnb2, cv=2, method='sigmoid')\n",
        "classifer_sigmoid.fit(df_X,df_Y)\n",
        "new_observation = [[ 6.0,  2.6,  5.0,  1.7]]\n",
        "classifer_sigmoid.predict_proba(new_observation)"
      ],
      "execution_count": null,
      "outputs": [
        {
          "output_type": "stream",
          "name": "stderr",
          "text": [
            "/usr/local/lib/python3.7/dist-packages/sklearn/preprocessing/_label.py:98: DataConversionWarning: A column-vector y was passed when a 1d array was expected. Please change the shape of y to (n_samples, ), for example using ravel().\n",
            "  y = column_or_1d(y, warn=True)\n",
            "/usr/local/lib/python3.7/dist-packages/sklearn/utils/validation.py:993: DataConversionWarning: A column-vector y was passed when a 1d array was expected. Please change the shape of y to (n_samples, ), for example using ravel().\n",
            "  y = column_or_1d(y, warn=True)\n",
            "/usr/local/lib/python3.7/dist-packages/sklearn/utils/validation.py:993: DataConversionWarning: A column-vector y was passed when a 1d array was expected. Please change the shape of y to (n_samples, ), for example using ravel().\n",
            "  y = column_or_1d(y, warn=True)\n"
          ]
        },
        {
          "output_type": "execute_result",
          "data": {
            "text/plain": [
              "array([[0.02161325, 0.66409025, 0.3142965 ]])"
            ]
          },
          "metadata": {},
          "execution_count": 8
        }
      ]
    }
  ]
}