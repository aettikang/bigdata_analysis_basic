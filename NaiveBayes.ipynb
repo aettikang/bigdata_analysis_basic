{
  "nbformat": 4,
  "nbformat_minor": 0,
  "metadata": {
    "colab": {
      "name": "NaiveBayes.ipynb",
      "provenance": [],
      "collapsed_sections": [],
      "mount_file_id": "1ICP_LUTmxe1P6TYmT65bkuy13aOWzumG",
      "authorship_tag": "ABX9TyOm1liGLYk29tgvuTObChIQ",
      "include_colab_link": true
    },
    "kernelspec": {
      "name": "python3",
      "display_name": "Python 3"
    },
    "language_info": {
      "name": "python"
    }
  },
  "cells": [
    {
      "cell_type": "markdown",
      "metadata": {
        "id": "view-in-github",
        "colab_type": "text"
      },
      "source": [
        "<a href=\"https://colab.research.google.com/github/aettikang/bigdata_analysis_basic/blob/main/NaiveBayes.ipynb\" target=\"_parent\"><img src=\"https://colab.research.google.com/assets/colab-badge.svg\" alt=\"Open In Colab\"/></a>"
      ]
    },
    {
      "cell_type": "code",
      "metadata": {
        "id": "E5NuIOvHG51k"
      },
      "source": [
        "from sklearn import datasets\n",
        "from sklearn.naive_bayes import GaussianNB\n",
        "from sklearn.metrics import confusion_matrix\n",
        "import pandas as pd"
      ],
      "execution_count": null,
      "outputs": []
    },
    {
      "cell_type": "code",
      "metadata": {
        "id": "7eKA8hsVSN5c"
      },
      "source": [
        "iris = datasets.load_iris()\n",
        "df_X=pd.DataFrame(iris.data)\n",
        "df_Y=pd.DataFrame(iris.target)"
      ],
      "execution_count": null,
      "outputs": []
    },
    {
      "cell_type": "code",
      "metadata": {
        "id": "uE2mf2fLSSTC"
      },
      "source": [
        "df_X.head()"
      ],
      "execution_count": null,
      "outputs": []
    },
    {
      "cell_type": "code",
      "metadata": {
        "id": "CMFM_V4oSVrV"
      },
      "source": [
        "df_Y.value_counts()"
      ],
      "execution_count": null,
      "outputs": []
    },
    {
      "cell_type": "code",
      "metadata": {
        "id": "hJZMG2VG6COZ"
      },
      "source": [
        "gnb1=GaussianNB(priors=[1/10, 3/10, 6/10])\n",
        "fitted1=gnb1.fit(iris.data,iris.target)\n",
        "y_pred1=fitted1.predict(iris.data)\n",
        "confusion_matrix(iris.target,y_pred1)"
      ],
      "execution_count": null,
      "outputs": []
    },
    {
      "cell_type": "code",
      "metadata": {
        "id": "sdUT6snh6LOs"
      },
      "source": [
        "accuracy = 100 * (iris.target == y_pred1).sum()/iris.data.shape[0]\n",
        "print(\"Accuracy = \",accuracy)"
      ],
      "execution_count": null,
      "outputs": []
    },
    {
      "cell_type": "code",
      "metadata": {
        "id": "jNr16KemSrVe"
      },
      "source": [
        "from sklearn.calibration import CalibratedClassifierCV\n",
        "\n",
        "classifer_sigmoid = CalibratedClassifierCV(gnb1, cv=2, method='sigmoid')\n",
        "classifer_sigmoid.fit(df_X,df_Y)\n",
        "new_observation = [[ 6.0,  2.6,  5.0,  1.7]]\n",
        "classifer_sigmoid.predict_proba(new_observation)"
      ],
      "execution_count": null,
      "outputs": []
    }
  ]
}