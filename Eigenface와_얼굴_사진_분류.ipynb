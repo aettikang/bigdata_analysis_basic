{
  "nbformat": 4,
  "nbformat_minor": 5,
  "metadata": {
    "kernelspec": {
      "display_name": "Python 3 (ipykernel)",
      "language": "python",
      "name": "python3"
    },
    "language_info": {
      "codemirror_mode": {
        "name": "ipython",
        "version": 3
      },
      "file_extension": ".py",
      "mimetype": "text/x-python",
      "name": "python",
      "nbconvert_exporter": "python",
      "pygments_lexer": "ipython3",
      "version": "3.8.10"
    },
    "colab": {
      "name": "03_Eigenface와 얼굴 사진 분류.ipynb",
      "provenance": [],
      "toc_visible": true,
      "collapsed_sections": [],
      "include_colab_link": true
    }
  },
  "cells": [
    {
      "cell_type": "markdown",
      "metadata": {
        "id": "view-in-github",
        "colab_type": "text"
      },
      "source": [
        "<a href=\"https://colab.research.google.com/github/aettikang/bigdata_analysis_basic/blob/main/Eigenface%EC%99%80_%EC%96%BC%EA%B5%B4_%EC%82%AC%EC%A7%84_%EB%B6%84%EB%A5%98.ipynb\" target=\"_parent\"><img src=\"https://colab.research.google.com/assets/colab-badge.svg\" alt=\"Open In Colab\"/></a>"
      ]
    },
    {
      "cell_type": "markdown",
      "metadata": {
        "id": "e95ebe3d-cb57-4893-90aa-17fabb542889"
      },
      "source": [
        "# Eigenface를 이용한 차원 축소와 SVM을 이용한 분류"
      ],
      "id": "e95ebe3d-cb57-4893-90aa-17fabb542889"
    },
    {
      "cell_type": "code",
      "metadata": {
        "id": "9422e8ba-dd1e-4c09-98d8-58de06f474c4"
      },
      "source": [
        "import pandas as pd\n",
        "import numpy as np\n",
        "import matplotlib.pyplot as plt\n",
        "\n",
        "\n",
        "np.random.seed(2021)"
      ],
      "id": "9422e8ba-dd1e-4c09-98d8-58de06f474c4",
      "execution_count": null,
      "outputs": []
    },
    {
      "cell_type": "markdown",
      "metadata": {
        "tags": [],
        "id": "d215b7a3-5d59-44e7-b0ef-8a65db5a7606"
      },
      "source": [
        "## 1. Data"
      ],
      "id": "d215b7a3-5d59-44e7-b0ef-8a65db5a7606"
    },
    {
      "cell_type": "markdown",
      "metadata": {
        "tags": [],
        "id": "c903284c-1874-4295-bba3-e2f704ab9d12"
      },
      "source": [
        "### 1.1 Data Load\n",
        "\n",
        "데이터는 `sklearn.datasets`의 `fetch_lfw_people`로 받을 수 있습니다."
      ],
      "id": "c903284c-1874-4295-bba3-e2f704ab9d12"
    },
    {
      "cell_type": "code",
      "metadata": {
        "id": "cad433db-25ac-4f80-bb3c-463eb4f8a4a4"
      },
      "source": [
        "from sklearn.datasets import fetch_lfw_people\n",
        "\n",
        "faces = fetch_lfw_people(min_faces_per_person=70, resize=0.4)"
      ],
      "id": "cad433db-25ac-4f80-bb3c-463eb4f8a4a4",
      "execution_count": null,
      "outputs": []
    },
    {
      "cell_type": "code",
      "metadata": {
        "id": "20a26dfa-be91-4466-b9b1-e2ae9ba1a3f9"
      },
      "source": [
        "data, target = faces[\"data\"], faces[\"target\"]"
      ],
      "id": "20a26dfa-be91-4466-b9b1-e2ae9ba1a3f9",
      "execution_count": null,
      "outputs": []
    },
    {
      "cell_type": "markdown",
      "metadata": {
        "id": "0c92b100-c981-4361-97e7-d1d965c22314"
      },
      "source": [
        "### 1.2 Data EDA"
      ],
      "id": "0c92b100-c981-4361-97e7-d1d965c22314"
    },
    {
      "cell_type": "markdown",
      "metadata": {
        "id": "e58c7867-c6b0-4fb0-b82f-38889d906206"
      },
      "source": [
        "이미지의 height와 width를 확인하면 다음과 같습니다."
      ],
      "id": "e58c7867-c6b0-4fb0-b82f-38889d906206"
    },
    {
      "cell_type": "code",
      "metadata": {
        "id": "178835f0-b347-4564-8d5c-06b2ce15440e"
      },
      "source": [
        "n_samples, h, w = faces.images.shape"
      ],
      "id": "178835f0-b347-4564-8d5c-06b2ce15440e",
      "execution_count": null,
      "outputs": []
    },
    {
      "cell_type": "code",
      "metadata": {
        "colab": {
          "base_uri": "https://localhost:8080/"
        },
        "id": "d3d59171-3404-486a-a649-0ffb833a7816",
        "outputId": "6e814825-c4d7-4b54-844e-92efa8dcffd4"
      },
      "source": [
        "n_samples, h, w"
      ],
      "id": "d3d59171-3404-486a-a649-0ffb833a7816",
      "execution_count": null,
      "outputs": [
        {
          "output_type": "execute_result",
          "data": {
            "text/plain": [
              "(1288, 50, 37)"
            ]
          },
          "metadata": {},
          "execution_count": 5
        }
      ]
    },
    {
      "cell_type": "markdown",
      "metadata": {
        "id": "40f5e6dc-aac4-4ea8-8353-73dbdbc36a01"
      },
      "source": [
        "얼굴의 주인들의 이름을 확인해 보겠습니다."
      ],
      "id": "40f5e6dc-aac4-4ea8-8353-73dbdbc36a01"
    },
    {
      "cell_type": "code",
      "metadata": {
        "id": "3017f5b4-de8a-496f-a182-eecc9abcbcd5"
      },
      "source": [
        "target_names = faces.target_names\n",
        "n_classes = target_names.shape[0]"
      ],
      "id": "3017f5b4-de8a-496f-a182-eecc9abcbcd5",
      "execution_count": null,
      "outputs": []
    },
    {
      "cell_type": "code",
      "metadata": {
        "colab": {
          "base_uri": "https://localhost:8080/"
        },
        "id": "aafe83d1-a58c-45ad-945c-4a2d0d15cab1",
        "outputId": "9c7af5fb-24ca-4f7a-8e06-9f1c2ba8b4d9"
      },
      "source": [
        "target_names"
      ],
      "id": "aafe83d1-a58c-45ad-945c-4a2d0d15cab1",
      "execution_count": null,
      "outputs": [
        {
          "output_type": "execute_result",
          "data": {
            "text/plain": [
              "array(['Ariel Sharon', 'Colin Powell', 'Donald Rumsfeld', 'George W Bush',\n",
              "       'Gerhard Schroeder', 'Hugo Chavez', 'Tony Blair'], dtype='<U17')"
            ]
          },
          "metadata": {},
          "execution_count": 7
        }
      ]
    },
    {
      "cell_type": "markdown",
      "metadata": {
        "id": "7082ab29-f8a9-4af6-b455-5bb2d852b40a"
      },
      "source": [
        "이미지를 실제로 확인해 보겠습니다."
      ],
      "id": "7082ab29-f8a9-4af6-b455-5bb2d852b40a"
    },
    {
      "cell_type": "code",
      "metadata": {
        "colab": {
          "base_uri": "https://localhost:8080/",
          "height": 607
        },
        "id": "68edf355-a9db-4b03-ae4c-42b01a27a8e6",
        "outputId": "db8cb14f-ce80-4d75-8d17-7416f50d0414"
      },
      "source": [
        "samples = data[:10].reshape(10, h, w)\n",
        "fig, axes = plt.subplots(nrows=2, ncols=5, figsize=(20, 10))\n",
        "for idx, sample in enumerate(samples):\n",
        "    ax = axes[idx//5, idx%5]\n",
        "    ax.imshow(sample, cmap=\"gray\")\n",
        "    ax.set_title(target_names[target[idx]])"
      ],
      "id": "68edf355-a9db-4b03-ae4c-42b01a27a8e6",
      "execution_count": null,
      "outputs": [
        {
          "output_type": "display_data",
          "data": {
            "text/plain": [
              "<Figure size 1440x720 with 10 Axes>"
            ],
            "image/png": "[encoded data removed]"
          },
          "metadata": {
            "needs_background": "light"
          }
        }
      ]
    },
    {
      "cell_type": "markdown",
      "metadata": {
        "tags": [],
        "id": "2b27b0fb-50eb-44bf-ab5c-f2ef327e3757"
      },
      "source": [
        "### 1.3 Data Split"
      ],
      "id": "2b27b0fb-50eb-44bf-ab5c-f2ef327e3757"
    },
    {
      "cell_type": "code",
      "metadata": {
        "id": "9b5f6bbc-8fdc-4110-9cc4-d034e2b549d6"
      },
      "source": [
        "from sklearn.model_selection import train_test_split\n",
        "\n",
        "train_data, test_data, train_target, test_target = train_test_split(\n",
        "    data, target, train_size=0.7, random_state=2021\n",
        ")"
      ],
      "id": "9b5f6bbc-8fdc-4110-9cc4-d034e2b549d6",
      "execution_count": null,
      "outputs": []
    },
    {
      "cell_type": "code",
      "metadata": {
        "colab": {
          "base_uri": "https://localhost:8080/"
        },
        "id": "41489d75-f5a7-488a-badb-1793483e404f",
        "outputId": "ba5eb301-0a62-4acd-8ab1-32633711c3dc"
      },
      "source": [
        "print(f\"train_data size: {len(train_target)}, {len(train_target)/len(data):.2f}\")\n",
        "print(f\"test_data size: {len(test_target)}, {len(test_target)/len(data):.2f}\")"
      ],
      "id": "41489d75-f5a7-488a-badb-1793483e404f",
      "execution_count": null,
      "outputs": [
        {
          "output_type": "stream",
          "name": "stdout",
          "text": [
            "train_data size: 901, 0.70\n",
            "test_data size: 387, 0.30\n"
          ]
        }
      ]
    },
    {
      "cell_type": "markdown",
      "metadata": {
        "id": "24b6dae5-4fbf-4699-8073-1ec229ea5c0b"
      },
      "source": [
        "### 1.4 Data Scaling"
      ],
      "id": "24b6dae5-4fbf-4699-8073-1ec229ea5c0b"
    },
    {
      "cell_type": "code",
      "metadata": {
        "id": "dc0bcc29-75b3-4ed3-a512-0b92d3368749"
      },
      "source": [
        "from sklearn.preprocessing import StandardScaler\n",
        "\n",
        "scaler = StandardScaler()"
      ],
      "id": "dc0bcc29-75b3-4ed3-a512-0b92d3368749",
      "execution_count": null,
      "outputs": []
    },
    {
      "cell_type": "code",
      "metadata": {
        "colab": {
          "base_uri": "https://localhost:8080/"
        },
        "id": "75f5a65b-9c5b-4a85-a3c5-1de8f2ac8c3c",
        "outputId": "115f003e-7ba9-4be3-cec8-0293b0d8d626"
      },
      "source": [
        "scaler.fit(train_data)"
      ],
      "id": "75f5a65b-9c5b-4a85-a3c5-1de8f2ac8c3c",
      "execution_count": null,
      "outputs": [
        {
          "output_type": "execute_result",
          "data": {
            "text/plain": [
              "StandardScaler()"
            ]
          },
          "metadata": {},
          "execution_count": 12
        }
      ]
    },
    {
      "cell_type": "code",
      "metadata": {
        "id": "e5b15cfc-790f-4234-bd3c-86bd9198f51a"
      },
      "source": [
        "scaled_train_data = scaler.transform(train_data)\n",
        "scaled_test_data = scaler.transform(test_data)"
      ],
      "id": "e5b15cfc-790f-4234-bd3c-86bd9198f51a",
      "execution_count": null,
      "outputs": []
    },
    {
      "cell_type": "markdown",
      "metadata": {
        "id": "880b6b73-108e-4556-898d-f12b3abbe2d9"
      },
      "source": [
        "## 2. Eigenface "
      ],
      "id": "880b6b73-108e-4556-898d-f12b3abbe2d9"
    },
    {
      "cell_type": "markdown",
      "metadata": {
        "id": "45e6fdde-ce86-430c-9c21-7b92b37f5b37"
      },
      "source": [
        "Eigenface란 PCA를 이용해 얼굴 사진을 축소하면 생기는 eigenvector가 얼굴 모양과 같다고 하여서 생긴 용어입니다.  \n",
        "직접 실습을 통해 Eigenface를 생성해 보겠습니다."
      ],
      "id": "45e6fdde-ce86-430c-9c21-7b92b37f5b37"
    },
    {
      "cell_type": "markdown",
      "metadata": {
        "id": "559cc23d-270a-478f-9a89-2dd8f588704d"
      },
      "source": [
        "### 2.1 학습"
      ],
      "id": "559cc23d-270a-478f-9a89-2dd8f588704d"
    },
    {
      "cell_type": "markdown",
      "metadata": {
        "id": "a3b071e6-0e61-4cc4-a924-f9718aaa7ea7"
      },
      "source": [
        "PCA를 이용해 데이터를 압축하겠습니다."
      ],
      "id": "a3b071e6-0e61-4cc4-a924-f9718aaa7ea7"
    },
    {
      "cell_type": "code",
      "metadata": {
        "id": "f92205ec-dc51-4c57-a0d7-1017be8ac2c2"
      },
      "source": [
        "from sklearn.decomposition import PCA\n",
        "\n",
        "pca = PCA()"
      ],
      "id": "f92205ec-dc51-4c57-a0d7-1017be8ac2c2",
      "execution_count": null,
      "outputs": []
    },
    {
      "cell_type": "code",
      "metadata": {
        "colab": {
          "base_uri": "https://localhost:8080/"
        },
        "id": "a4a2140c-0a55-4021-90ea-a0eb3dfb66d9",
        "outputId": "16e4b2f6-9a91-4213-e219-dd0ef7162d2b"
      },
      "source": [
        "pca.fit(scaled_train_data)"
      ],
      "id": "a4a2140c-0a55-4021-90ea-a0eb3dfb66d9",
      "execution_count": null,
      "outputs": [
        {
          "output_type": "execute_result",
          "data": {
            "text/plain": [
              "PCA()"
            ]
          },
          "metadata": {},
          "execution_count": 21
        }
      ]
    },
    {
      "cell_type": "code",
      "metadata": {
        "colab": {
          "base_uri": "https://localhost:8080/",
          "height": 282
        },
        "id": "9beb04b2-7186-4d2d-8454-d63dce296158",
        "outputId": "5953a874-a529-49ec-c41f-fc3f256dd590"
      },
      "source": [
        "plt.plot(pca.explained_variance_ratio_.cumsum())\n",
        "plt.axhline(0.9, color=\"red\", linestyle=\"--\")"
      ],
      "id": "9beb04b2-7186-4d2d-8454-d63dce296158",
      "execution_count": null,
      "outputs": [
        {
          "output_type": "execute_result",
          "data": {
            "text/plain": [
              "<matplotlib.lines.Line2D at 0x7f7c2c8b8e90>"
            ]
          },
          "metadata": {},
          "execution_count": 22
        },
        {
          "output_type": "display_data",
          "data": {
            "text/plain": [
              "<Figure size 432x288 with 1 Axes>"
            ],
            "image/png": "[encoded data removed]"
          },
          "metadata": {
            "needs_background": "light"
          }
        }
      ]
    },
    {
      "cell_type": "markdown",
      "metadata": {
        "id": "75ac0dc5-817c-41ee-9de1-901dee739789"
      },
      "source": [
        "explained variance ratio가 0.9가 되는 지점의 component를 사용하겠습니다."
      ],
      "id": "75ac0dc5-817c-41ee-9de1-901dee739789"
    },
    {
      "cell_type": "code",
      "metadata": {
        "colab": {
          "base_uri": "https://localhost:8080/"
        },
        "id": "50fd4862-6140-443c-a37d-0480d8bee842",
        "outputId": "96e150af-2a6f-4905-e3bd-171eda093d0c"
      },
      "source": [
        "pca = PCA(n_components=0.9)\n",
        "pca.fit(scaled_train_data)"
      ],
      "id": "50fd4862-6140-443c-a37d-0480d8bee842",
      "execution_count": null,
      "outputs": [
        {
          "output_type": "execute_result",
          "data": {
            "text/plain": [
              "PCA(n_components=0.9)"
            ]
          },
          "metadata": {},
          "execution_count": 23
        }
      ]
    },
    {
      "cell_type": "code",
      "metadata": {
        "id": "a7201ca4-368b-47f4-8731-735737f838c8"
      },
      "source": [
        "pca_train_data = pca.transform(scaled_train_data)\n",
        "pca_test_data = pca.transform(scaled_test_data)"
      ],
      "id": "a7201ca4-368b-47f4-8731-735737f838c8",
      "execution_count": null,
      "outputs": []
    },
    {
      "cell_type": "markdown",
      "metadata": {
        "id": "be04cf42-5c83-458d-9f88-12b960823fef"
      },
      "source": [
        "### 2.2 시각화"
      ],
      "id": "be04cf42-5c83-458d-9f88-12b960823fef"
    },
    {
      "cell_type": "markdown",
      "metadata": {
        "id": "5491952d-5acf-4c6a-9fe8-1676918b51c1"
      },
      "source": [
        "pca로 학습한 eigen vector를 시각화 해보겠습니다.  \n",
        "PCA를 통해 다음 eigen vector에 나오는 얼굴의 특징을 추출한다고 생각할 수 있습니다."
      ],
      "id": "5491952d-5acf-4c6a-9fe8-1676918b51c1"
    },
    {
      "cell_type": "code",
      "metadata": {
        "colab": {
          "base_uri": "https://localhost:8080/",
          "height": 607
        },
        "id": "e244f36a-d2ff-4b51-9aa1-14d82d7fcf62",
        "outputId": "d74f0683-abb0-4743-f680-a42df57c762f"
      },
      "source": [
        "eigenfaces = pca.components_.reshape((pca.n_components_, h, w))\n",
        "samples = eigenfaces[:10].reshape(10, h, w)\n",
        "fig, axes = plt.subplots(nrows=2, ncols=5, figsize=(20, 10))\n",
        "for idx, sample in enumerate(samples):\n",
        "    ax = axes[idx//5, idx%5]\n",
        "    ax.imshow(sample, cmap=\"gray\")\n",
        "    ax.set_title(f\"eigenface {idx}\")"
      ],
      "id": "e244f36a-d2ff-4b51-9aa1-14d82d7fcf62",
      "execution_count": null,
      "outputs": [
        {
          "output_type": "display_data",
          "data": {
            "text/plain": [
              "<Figure size 1440x720 with 10 Axes>"
            ],
            "image/png": "[encoded data removed]"
          },
          "metadata": {
            "needs_background": "light"
          }
        }
      ]
    },
    {
      "cell_type": "markdown",
      "metadata": {
        "id": "b1aabda8-f1f1-48df-8f39-e1236d8768f6"
      },
      "source": [
        "## 3. SVM"
      ],
      "id": "b1aabda8-f1f1-48df-8f39-e1236d8768f6"
    },
    {
      "cell_type": "markdown",
      "metadata": {
        "tags": [],
        "id": "bb8cd5d6-9c38-448b-8b45-9878f9cb1239"
      },
      "source": [
        "### 3.1 Raw Data\n",
        "\n",
        "우선 앞선 SVM 실습에서 진행했던 Baseline의 결과를 보겠습니다."
      ],
      "id": "bb8cd5d6-9c38-448b-8b45-9878f9cb1239"
    },
    {
      "cell_type": "code",
      "metadata": {
        "colab": {
          "base_uri": "https://localhost:8080/"
        },
        "id": "7169de65-5fc9-43da-848e-f2364c2b6393",
        "outputId": "0d947058-61e1-47ee-dbd5-ca97b0d101a5"
      },
      "source": [
        "from sklearn.svm import SVC\n",
        "\n",
        "svm = SVC()\n",
        "svm.fit(scaled_train_data, train_target)"
      ],
      "id": "7169de65-5fc9-43da-848e-f2364c2b6393",
      "execution_count": null,
      "outputs": [
        {
          "output_type": "execute_result",
          "data": {
            "text/plain": [
              "SVC()"
            ]
          },
          "metadata": {},
          "execution_count": 26
        }
      ]
    },
    {
      "cell_type": "code",
      "metadata": {
        "id": "92c3e22e-5155-4d5a-b2c6-63fbaf6f52fb"
      },
      "source": [
        "train_pred = svm.predict(scaled_train_data)\n",
        "test_pred = svm.predict(scaled_test_data)"
      ],
      "id": "92c3e22e-5155-4d5a-b2c6-63fbaf6f52fb",
      "execution_count": null,
      "outputs": []
    },
    {
      "cell_type": "code",
      "metadata": {
        "id": "79c5e694-e3a7-47c7-8b76-6d2ab892642a"
      },
      "source": [
        "from sklearn.metrics import accuracy_score\n",
        "\n",
        "train_acc = accuracy_score(train_target, train_pred)\n",
        "test_acc = accuracy_score(test_target, test_pred)"
      ],
      "id": "79c5e694-e3a7-47c7-8b76-6d2ab892642a",
      "execution_count": null,
      "outputs": []
    },
    {
      "cell_type": "code",
      "metadata": {
        "colab": {
          "base_uri": "https://localhost:8080/"
        },
        "id": "be91f3ba-07ac-4f27-bbc6-cc7b5ebb46eb",
        "outputId": "3dee9894-32ce-4811-9b76-eb0563eec3a2"
      },
      "source": [
        "print(f\"train accuracy is {train_acc:.4f}\")\n",
        "print(f\"test accuracy is {test_acc:.4f}\")"
      ],
      "id": "be91f3ba-07ac-4f27-bbc6-cc7b5ebb46eb",
      "execution_count": null,
      "outputs": [
        {
          "output_type": "stream",
          "name": "stdout",
          "text": [
            "train accuracy is 0.9567\n",
            "test accuracy is 0.7339\n"
          ]
        }
      ]
    },
    {
      "cell_type": "markdown",
      "metadata": {
        "id": "ed3a4dd3-c207-4f45-bdd6-eb8cd1ea8b46"
      },
      "source": [
        "### 3.2 Eigenface\n",
        "\n",
        "이번에는 Eigenface로 추출된 특징만으로 SVM을 학습시킨 후 결과를 보겠습니다."
      ],
      "id": "ed3a4dd3-c207-4f45-bdd6-eb8cd1ea8b46"
    },
    {
      "cell_type": "code",
      "metadata": {
        "colab": {
          "base_uri": "https://localhost:8080/"
        },
        "id": "18041b32-e149-40b2-b7b4-ceef85555ad9",
        "outputId": "ebad8ef7-60e2-4419-d1d6-8ce693520d22"
      },
      "source": [
        "eigenface_svm = SVC()\n",
        "eigenface_svm.fit(pca_train_data, train_target)"
      ],
      "id": "18041b32-e149-40b2-b7b4-ceef85555ad9",
      "execution_count": null,
      "outputs": [
        {
          "output_type": "execute_result",
          "data": {
            "text/plain": [
              "SVC()"
            ]
          },
          "metadata": {},
          "execution_count": 30
        }
      ]
    },
    {
      "cell_type": "code",
      "metadata": {
        "id": "caca1860-402f-48f3-972f-2612847c03fb"
      },
      "source": [
        "pca_train_pred = eigenface_svm.predict(pca_train_data)\n",
        "pca_test_pred = eigenface_svm.predict(pca_test_data)"
      ],
      "id": "caca1860-402f-48f3-972f-2612847c03fb",
      "execution_count": null,
      "outputs": []
    },
    {
      "cell_type": "code",
      "metadata": {
        "id": "f7aa27b9-fb79-4bd3-82cf-98a63787e84e"
      },
      "source": [
        "pca_train_acc = accuracy_score(train_target, pca_train_pred)\n",
        "pca_test_acc = accuracy_score(test_target, pca_test_pred)"
      ],
      "id": "f7aa27b9-fb79-4bd3-82cf-98a63787e84e",
      "execution_count": null,
      "outputs": []
    },
    {
      "cell_type": "code",
      "metadata": {
        "colab": {
          "base_uri": "https://localhost:8080/"
        },
        "id": "5f8efbc5-7af0-4b82-93b6-6857af3cead9",
        "outputId": "973aa848-745f-4e13-82cb-9e8742a457d8"
      },
      "source": [
        "print(f\"Eigenface train accuracy is {pca_train_acc:.4f}\")\n",
        "print(f\"Eigenface test accuracy is {pca_test_acc:.4f}\")"
      ],
      "id": "5f8efbc5-7af0-4b82-93b6-6857af3cead9",
      "execution_count": null,
      "outputs": [
        {
          "output_type": "stream",
          "name": "stdout",
          "text": [
            "Eigenface train accuracy is 0.9390\n",
            "Eigenface test accuracy is 0.7364\n"
          ]
        }
      ]
    },
    {
      "cell_type": "markdown",
      "metadata": {
        "id": "60c52130-703c-45cc-af3e-654f378bccd4"
      },
      "source": [
        "## 4. 마무리"
      ],
      "id": "60c52130-703c-45cc-af3e-654f378bccd4"
    },
    {
      "cell_type": "code",
      "metadata": {
        "colab": {
          "base_uri": "https://localhost:8080/"
        },
        "id": "00e70ff1-e4d6-4dab-bcae-34b77c293403",
        "outputId": "78e32141-8bec-4913-aec7-bb1d1ed52764"
      },
      "source": [
        "train_data.shape"
      ],
      "id": "00e70ff1-e4d6-4dab-bcae-34b77c293403",
      "execution_count": null,
      "outputs": [
        {
          "output_type": "execute_result",
          "data": {
            "text/plain": [
              "(901, 1850)"
            ]
          },
          "metadata": {},
          "execution_count": 34
        }
      ]
    },
    {
      "cell_type": "code",
      "metadata": {
        "colab": {
          "base_uri": "https://localhost:8080/"
        },
        "id": "73634f80-3306-4b59-841a-26dc04f39ab2",
        "outputId": "b0487192-7852-4a1a-e7a7-5194f279302a"
      },
      "source": [
        "pca_train_data.shape"
      ],
      "id": "73634f80-3306-4b59-841a-26dc04f39ab2",
      "execution_count": null,
      "outputs": [
        {
          "output_type": "execute_result",
          "data": {
            "text/plain": [
              "(901, 72)"
            ]
          },
          "metadata": {},
          "execution_count": 35
        }
      ]
    },
    {
      "cell_type": "code",
      "metadata": {
        "colab": {
          "base_uri": "https://localhost:8080/"
        },
        "id": "108b25d9-ea1e-41a3-8af1-19091e5412ef",
        "outputId": "c63994db-6cbf-4e3b-c3f0-7b17e803f26d"
      },
      "source": [
        "print(f\"Baseline test accuracy is {test_acc:.4f}\")\n",
        "print(f\"Eigenface test accuracy is {pca_test_acc:.4f}\")"
      ],
      "id": "108b25d9-ea1e-41a3-8af1-19091e5412ef",
      "execution_count": null,
      "outputs": [
        {
          "output_type": "stream",
          "name": "stdout",
          "text": [
            "Baseline test accuracy is 0.7339\n",
            "Eigenface test accuracy is 0.7364\n"
          ]
        }
      ]
    },
    {
      "cell_type": "code",
      "metadata": {
        "id": "nr3OYPSXg3r7"
      },
      "source": [
        ""
      ],
      "id": "nr3OYPSXg3r7",
      "execution_count": null,
      "outputs": []
    }
  ]
}