{
  "nbformat": 4,
  "nbformat_minor": 0,
  "metadata": {
    "colab": {
      "name": "SVM.ipynb",
      "provenance": [],
      "collapsed_sections": [],
      "authorship_tag": "ABX9TyOEg0Dlsa7gZQ7fEIxdPsbe",
      "include_colab_link": true
    },
    "kernelspec": {
      "name": "python3",
      "display_name": "Python 3"
    },
    "language_info": {
      "name": "python"
    }
  },
  "cells": [
    {
      "cell_type": "markdown",
      "metadata": {
        "id": "view-in-github",
        "colab_type": "text"
      },
      "source": [
        "<a href=\"https://colab.research.google.com/github/aettikang/bigdata_analysis_basic/blob/main/SVM.ipynb\" target=\"_parent\"><img src=\"https://colab.research.google.com/assets/colab-badge.svg\" alt=\"Open In Colab\"/></a>"
      ]
    },
    {
      "cell_type": "code",
      "metadata": {
        "id": "yBy8A1dS3Slc"
      },
      "source": [
        "from sklearn.datasets import load_breast_cancer \n",
        "cancer=load_breast_cancer()"
      ],
      "execution_count": null,
      "outputs": []
    },
    {
      "cell_type": "code",
      "metadata": {
        "id": "6E4ODBckRoad"
      },
      "source": [
        "from sklearn.model_selection import train_test_split\n",
        "X_train, X_test, y_train, y_test = train_test_split(cancer.data, cancer.target,\n",
        "                                                    stratify=cancer.target, \n",
        "                                                    random_state=1)"
      ],
      "execution_count": null,
      "outputs": []
    },
    {
      "cell_type": "code",
      "metadata": {
        "id": "oDhwvbvGUXUw"
      },
      "source": [
        "from sklearn.preprocessing import MinMaxScaler \n",
        "scaler=MinMaxScaler() "
      ],
      "execution_count": null,
      "outputs": []
    },
    {
      "cell_type": "code",
      "metadata": {
        "id": "gEb6DzIaUY1t"
      },
      "source": [
        "from sklearn.svm import SVC\n",
        "\n",
        "base_model = SVC(random_state=1) #rbf\n",
        "linear_model = SVC(kernel=\"linear\", random_state=1) \n",
        "poly_model = SVC(kernel=\"poly\", random_state=1)"
      ],
      "execution_count": null,
      "outputs": []
    },
    {
      "cell_type": "code",
      "metadata": {
        "id": "l7NuY1Vz39Xz"
      },
      "source": [
        "from sklearn.pipeline import Pipeline\n",
        "pipe=Pipeline([('scaler',scaler), ('base_model',linear_model)])"
      ],
      "execution_count": null,
      "outputs": []
    },
    {
      "cell_type": "code",
      "metadata": {
        "id": "10Kqk3Yy7bbN"
      },
      "source": [
        "from sklearn.model_selection import KFold,GridSearchCV \n",
        "kfold=KFold(n_splits=3, shuffle=True, random_state=1)\n",
        "\n",
        "param_grid={'base_model__C':[0.0001, 0.001, 0.01, 0.1, 1, 10, 100, 1000],\n",
        "            'base_model__gamma':[0.0001, 0.001, 0.01, 0.1, 1, 10, 100, 1000],\n",
        "            'base_model__degree':[1,2,3,4,5]}\n",
        "\n",
        "grid_model=GridSearchCV(estimator=pipe, param_grid=param_grid, cv=kfold, n_jobs=-1).fit(X_train, y_train)"
      ],
      "execution_count": null,
      "outputs": []
    },
    {
      "cell_type": "code",
      "metadata": {
        "colab": {
          "base_uri": "https://localhost:8080/"
        },
        "id": "KGSAV6377B8W",
        "outputId": "de02e783-2126-45fa-cf4d-f6e599a8880e"
      },
      "source": [
        "print('교차검증 점수 : ', grid_model.best_score_) \n",
        "print('최적의 하이퍼 파라메터 조합 :', grid_model.best_params_) "
      ],
      "execution_count": null,
      "outputs": [
        {
          "output_type": "stream",
          "name": "stdout",
          "text": [
            "교차검증 점수 :  0.9741784037558686\n",
            "최적의 하이퍼 파라메터 조합 : {'base_model__C': 10, 'base_model__degree': 1, 'base_model__gamma': 0.0001}\n"
          ]
        }
      ]
    }
  ]
}