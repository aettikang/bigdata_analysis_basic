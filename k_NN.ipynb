{
  "nbformat": 4,
  "nbformat_minor": 0,
  "metadata": {
    "kernelspec": {
      "display_name": "hynix",
      "language": "python",
      "name": "hynix"
    },
    "language_info": {
      "codemirror_mode": {
        "name": "ipython",
        "version": 3
      },
      "file_extension": ".py",
      "mimetype": "text/x-python",
      "name": "python",
      "nbconvert_exporter": "python",
      "pygments_lexer": "ipython3",
      "version": "3.7.9"
    },
    "colab": {
      "name": "k-NN.ipynb",
      "provenance": [],
      "collapsed_sections": [],
      "include_colab_link": true
    }
  },
  "cells": [
    {
      "cell_type": "markdown",
      "metadata": {
        "id": "view-in-github",
        "colab_type": "text"
      },
      "source": [
        "<a href=\"https://colab.research.google.com/github/aettikang/bigdata_analysis_basic/blob/main/k_NN.ipynb\" target=\"_parent\"><img src=\"https://colab.research.google.com/assets/colab-badge.svg\" alt=\"Open In Colab\"/></a>"
      ]
    },
    {
      "cell_type": "code",
      "metadata": {
        "id": "CRBb0K1g7bX4"
      },
      "source": [
        "# 그래프의 한글이 깨질 경우 추가\n",
        "!sudo apt-get install -y fonts-nanum\n",
        "!sudo fc-cache -fv\n",
        "!rm ~/.cache/matplotlib -rf"
      ],
      "execution_count": null,
      "outputs": []
    },
    {
      "cell_type": "code",
      "metadata": {
        "id": "mnWGr5RPw8aK"
      },
      "source": [
        "# 그래프의 한글폰트 보이게 하기\n",
        "import matplotlib.pyplot as plt\n",
        "plt.rc('font', family='NanumBarunGothic') "
      ],
      "execution_count": 3,
      "outputs": []
    },
    {
      "cell_type": "code",
      "metadata": {
        "id": "Gw3oUSV45tPg"
      },
      "source": [
        "# 필요한 라이브러리 불러오기\n",
        "import numpy as np\n",
        "import pandas as pd \n",
        "import sklearn\n",
        "import matplotlib.pyplot as plt"
      ],
      "execution_count": 4,
      "outputs": []
    },
    {
      "cell_type": "code",
      "metadata": {
        "id": "Mz2Y5a2l5tP5",
        "colab": {
          "base_uri": "https://localhost:8080/"
        },
        "outputId": "af46d326-effa-431e-82ae-656cb6b6ae76"
      },
      "source": [
        "import pandas as pd \n",
        "\n",
        "ploan = pd.read_csv('https://raw.githubusercontent.com/aettikang/bigdata_analysis_basic/60eff9c44d1cc02889faa6a0aeb68b2b29e443eb/Personal%20Loan.csv')\n",
        "\n",
        "ploan.head(20) # 데이터 예시 확인\n",
        "ploan.shape # 데이터 차원 확인"
      ],
      "execution_count": 11,
      "outputs": [
        {
          "output_type": "execute_result",
          "data": {
            "text/plain": [
              "(2500, 13)"
            ]
          },
          "metadata": {},
          "execution_count": 11
        }
      ]
    },
    {
      "cell_type": "code",
      "metadata": {
        "id": "whez8jbV5tP5"
      },
      "source": [
        "feature_columns = list(ploan.columns.difference([\"Personal Loan\"]))\n",
        "\n",
        "X = ploan[feature_columns]\n",
        "y = ploan['Personal Loan'] # 대출여부: 1 or 0"
      ],
      "execution_count": 12,
      "outputs": []
    },
    {
      "cell_type": "code",
      "metadata": {
        "id": "jcJaE4DU5tP5"
      },
      "source": [
        "from sklearn.model_selection import train_test_split\n",
        "\n",
        "X_train, X_test, y_train, y_test = train_test_split(X, y, stratify=y,train_size=0.7,test_size=0.3,random_state=1234)"
      ],
      "execution_count": 13,
      "outputs": []
    },
    {
      "cell_type": "code",
      "metadata": {
        "id": "I83jdoVr5tP6"
      },
      "source": [
        "import sklearn.preprocessing as preprocessing\n",
        "preprocessor = preprocessing.Normalizer()\n",
        "\n",
        "X_train = preprocessor.fit_transform(X_train)\n",
        "X_test = preprocessor.transform(X_test)"
      ],
      "execution_count": 14,
      "outputs": []
    },
    {
      "cell_type": "code",
      "metadata": {
        "id": "FCYVG1Fq5tP6"
      },
      "source": [
        "from sklearn.neighbors import KNeighborsClassifier\n",
        "\n",
        "training_accuracy = []\n",
        "test_accuracy = []\n",
        "\n",
        "neighbors_settings = range(1, 25)\n",
        "\n",
        "for n_neighbors in neighbors_settings:\n",
        "    # 모델 생성\n",
        "    clf = KNeighborsClassifier(n_neighbors=n_neighbors)\n",
        "    clf.fit(X_train, y_train)\n",
        "    # 훈련 세트 정확도 저장\n",
        "    training_accuracy.append(clf.score(X_train, y_train))\n",
        "    # 일반화 정확도 저장\n",
        "    test_accuracy.append(clf.score(X_test, y_test))\n",
        "\n",
        "# K의 변화량에 따른 예측정확도 성능 비교\n",
        "plt.plot(neighbors_settings, training_accuracy, label=\"훈련 정확도\")\n",
        "plt.plot(neighbors_settings, test_accuracy, label=\"테스트 정확도\")\n",
        "plt.ylabel(\"정확도\")\n",
        "plt.xlabel(\"n_neighbors\")\n",
        "plt.legend()"
      ],
      "execution_count": null,
      "outputs": []
    },
    {
      "cell_type": "code",
      "metadata": {
        "id": "CYSgqCIr1Uey",
        "colab": {
          "base_uri": "https://localhost:8080/"
        },
        "outputId": "4e7766ce-da96-45c6-90a0-cd2a365743f5"
      },
      "source": [
        "from itertools import compress\n",
        "\n",
        "neighbors_settings \n",
        "best_idx = test_accuracy==max(test_accuracy)\n",
        "\n",
        "best_n = list(compress(neighbors_settings, best_idx))\n",
        "print('Best neighbors:',best_n[0])"
      ],
      "execution_count": 16,
      "outputs": [
        {
          "output_type": "stream",
          "name": "stdout",
          "text": [
            "Best neighbors: 21\n"
          ]
        }
      ]
    },
    {
      "cell_type": "code",
      "metadata": {
        "id": "BKayKWOS5tP7",
        "colab": {
          "base_uri": "https://localhost:8080/"
        },
        "outputId": "987ee797-0de7-4495-fd2f-b4838f3626a2"
      },
      "source": [
        "from sklearn import metrics\n",
        "from sklearn.metrics import confusion_matrix\n",
        "from sklearn.metrics import accuracy_score\n",
        "\n",
        "best_k = best_n[0]\n",
        "best_clf = KNeighborsClassifier(n_neighbors=best_k)\n",
        "best_clf.fit(X_train, y_train)\n",
        "\n",
        "train_pred_y = best_clf.predict(X_train)\n",
        "test_pred_y = best_clf.predict(X_test)\n",
        "tmp_acc = accuracy_score(y_test, test_pred_y)\n",
        "\n",
        "print( \"Best K is {}\".format(best_k), \", Test acuurcy: {0:.4f}\".format(tmp_acc))\n",
        "\n",
        "best_knn_conf = confusion_matrix(y_test, test_pred_y)"
      ],
      "execution_count": 17,
      "outputs": [
        {
          "output_type": "stream",
          "name": "stdout",
          "text": [
            "Best K is 21 , Test acuurcy: 0.8973\n"
          ]
        }
      ]
    },
    {
      "cell_type": "code",
      "metadata": {
        "id": "nfn3oK3-5tP7",
        "colab": {
          "base_uri": "https://localhost:8080/"
        },
        "outputId": "97e800bf-ee7e-466f-87bd-e47df053a0c4"
      },
      "source": [
        "print(f'학습 정오행렬 \\n{confusion_matrix(y_train, train_pred_y)}')\n",
        "print(f'테스트 정오행렬 \\n{confusion_matrix(y_test, test_pred_y)}\\n')\n",
        "print(f'학습 정확도 : {accuracy_score(y_train, train_pred_y):.4f}')\n",
        "print(f'테스트 정확도 : {accuracy_score(y_test, test_pred_y):.4f}')"
      ],
      "execution_count": 18,
      "outputs": [
        {
          "output_type": "stream",
          "name": "stdout",
          "text": [
            "학습 정오행렬 \n",
            "[[1564    7]\n",
            " [ 166   13]]\n",
            "테스트 정오행렬 \n",
            "[[670   3]\n",
            " [ 74   3]]\n",
            "\n",
            "학습 정확도 : 0.9011\n",
            "테스트 정확도 : 0.8973\n"
          ]
        }
      ]
    },
    {
      "cell_type": "code",
      "source": [
        ""
      ],
      "metadata": {
        "id": "BteSeAsuC3Lr"
      },
      "execution_count": null,
      "outputs": []
    }
  ]
}